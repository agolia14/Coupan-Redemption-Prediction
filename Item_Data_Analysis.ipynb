{
  "nbformat": 4,
  "nbformat_minor": 0,
  "metadata": {
    "colab": {
      "name": "Item Data Analysis.ipynb",
      "provenance": [],
      "include_colab_link": true
    },
    "kernelspec": {
      "name": "python3",
      "display_name": "Python 3"
    }
  },
  "cells": [
    {
      "cell_type": "markdown",
      "metadata": {
        "id": "view-in-github",
        "colab_type": "text"
      },
      "source": [
        "<a href=\"https://colab.research.google.com/github/agolia14/Coupan-Redemption-Prediction/blob/Data-Exploration/Item_Data_Analysis.ipynb\" target=\"_parent\"><img src=\"https://colab.research.google.com/assets/colab-badge.svg\" alt=\"Open In Colab\"/></a>"
      ]
    },
    {
      "cell_type": "code",
      "metadata": {
        "id": "hdnBAHuwyDYL",
        "colab_type": "code",
        "colab": {}
      },
      "source": [
        "import pandas as pd\n",
        "from collections import Counter\n",
        "import pickle\n",
        "\n",
        "from sklearn.preprocessing import LabelEncoder"
      ],
      "execution_count": 0,
      "outputs": []
    },
    {
      "cell_type": "code",
      "metadata": {
        "id": "2fi_9NzIyFah",
        "colab_type": "code",
        "colab": {
          "base_uri": "https://localhost:8080/",
          "height": 85
        },
        "outputId": "f4e86d49-b1a0-496e-b525-196f4cd64198"
      },
      "source": [
        "!git init\n",
        "!git config --global user.email \"agolia14@gmail.com\"\n",
        "!git remote add origin https://d0e5c5d2c5891214a6eb9a978deb96f359421b01@github.com/agolia14/Coupan-Redemption-Prediction.git\n",
        "!git fetch\n",
        "!git checkout Data-Exploration"
      ],
      "execution_count": 3,
      "outputs": [
        {
          "output_type": "stream",
          "text": [
            "Reinitialized existing Git repository in /content/.git/\n",
            "fatal: remote origin already exists.\n",
            "Branch 'Data-Exploration' set up to track remote branch 'Data-Exploration' from 'origin'.\n",
            "Switched to a new branch 'Data-Exploration'\n"
          ],
          "name": "stdout"
        }
      ]
    },
    {
      "cell_type": "code",
      "metadata": {
        "id": "ydFsVujRyJP2",
        "colab_type": "code",
        "colab": {
          "base_uri": "https://localhost:8080/",
          "height": 204
        },
        "outputId": "0c28ef40-4bf6-4f2e-a6df-13faf7041cb5"
      },
      "source": [
        "raw = pd.read_csv(\"data/train/item_data.csv\")\n",
        "raw.head()"
      ],
      "execution_count": 4,
      "outputs": [
        {
          "output_type": "execute_result",
          "data": {
            "text/html": [
              "<div>\n",
              "<style scoped>\n",
              "    .dataframe tbody tr th:only-of-type {\n",
              "        vertical-align: middle;\n",
              "    }\n",
              "\n",
              "    .dataframe tbody tr th {\n",
              "        vertical-align: top;\n",
              "    }\n",
              "\n",
              "    .dataframe thead th {\n",
              "        text-align: right;\n",
              "    }\n",
              "</style>\n",
              "<table border=\"1\" class=\"dataframe\">\n",
              "  <thead>\n",
              "    <tr style=\"text-align: right;\">\n",
              "      <th></th>\n",
              "      <th>item_id</th>\n",
              "      <th>brand</th>\n",
              "      <th>brand_type</th>\n",
              "      <th>category</th>\n",
              "    </tr>\n",
              "  </thead>\n",
              "  <tbody>\n",
              "    <tr>\n",
              "      <th>0</th>\n",
              "      <td>1</td>\n",
              "      <td>1</td>\n",
              "      <td>Established</td>\n",
              "      <td>Grocery</td>\n",
              "    </tr>\n",
              "    <tr>\n",
              "      <th>1</th>\n",
              "      <td>2</td>\n",
              "      <td>1</td>\n",
              "      <td>Established</td>\n",
              "      <td>Miscellaneous</td>\n",
              "    </tr>\n",
              "    <tr>\n",
              "      <th>2</th>\n",
              "      <td>3</td>\n",
              "      <td>56</td>\n",
              "      <td>Local</td>\n",
              "      <td>Bakery</td>\n",
              "    </tr>\n",
              "    <tr>\n",
              "      <th>3</th>\n",
              "      <td>4</td>\n",
              "      <td>56</td>\n",
              "      <td>Local</td>\n",
              "      <td>Grocery</td>\n",
              "    </tr>\n",
              "    <tr>\n",
              "      <th>4</th>\n",
              "      <td>5</td>\n",
              "      <td>56</td>\n",
              "      <td>Local</td>\n",
              "      <td>Grocery</td>\n",
              "    </tr>\n",
              "  </tbody>\n",
              "</table>\n",
              "</div>"
            ],
            "text/plain": [
              "   item_id  brand   brand_type       category\n",
              "0        1      1  Established        Grocery\n",
              "1        2      1  Established  Miscellaneous\n",
              "2        3     56        Local         Bakery\n",
              "3        4     56        Local        Grocery\n",
              "4        5     56        Local        Grocery"
            ]
          },
          "metadata": {
            "tags": []
          },
          "execution_count": 4
        }
      ]
    },
    {
      "cell_type": "code",
      "metadata": {
        "id": "O2qgPeEkJwTy",
        "colab_type": "code",
        "colab": {
          "base_uri": "https://localhost:8080/",
          "height": 34
        },
        "outputId": "40ad5b9a-e688-492f-c54a-256228fcfa92"
      },
      "source": [
        "Counter(raw.brand_type)"
      ],
      "execution_count": 6,
      "outputs": [
        {
          "output_type": "execute_result",
          "data": {
            "text/plain": [
              "Counter({'Established': 62842, 'Local': 11224})"
            ]
          },
          "metadata": {
            "tags": []
          },
          "execution_count": 6
        }
      ]
    },
    {
      "cell_type": "code",
      "metadata": {
        "id": "kzf-cnnZJ203",
        "colab_type": "code",
        "colab": {
          "base_uri": "https://localhost:8080/",
          "height": 340
        },
        "outputId": "bfc71fa7-f265-452a-e9d9-39ab2174b012"
      },
      "source": [
        "Counter(raw.category)"
      ],
      "execution_count": 7,
      "outputs": [
        {
          "output_type": "execute_result",
          "data": {
            "text/plain": [
              "Counter({'Alcohol': 303,\n",
              "         'Bakery': 1679,\n",
              "         'Dairy, Juices & Snacks': 2425,\n",
              "         'Flowers & Plants': 664,\n",
              "         'Fuel': 14,\n",
              "         'Garden': 102,\n",
              "         'Grocery': 32448,\n",
              "         'Meat': 2080,\n",
              "         'Miscellaneous': 385,\n",
              "         'Natural Products': 2533,\n",
              "         'Packaged Meat': 1966,\n",
              "         'Pharmaceutical': 24471,\n",
              "         'Prepared Food': 1880,\n",
              "         'Restauarant': 78,\n",
              "         'Salads': 40,\n",
              "         'Seafood': 728,\n",
              "         'Skin & Hair Care': 2244,\n",
              "         'Travel': 19,\n",
              "         'Vegetables (cut)': 7})"
            ]
          },
          "metadata": {
            "tags": []
          },
          "execution_count": 7
        }
      ]
    },
    {
      "cell_type": "code",
      "metadata": {
        "id": "feNxFLlVKEYU",
        "colab_type": "code",
        "colab": {}
      },
      "source": [
        "data =  "
      ],
      "execution_count": 0,
      "outputs": []
    }
  ]
}