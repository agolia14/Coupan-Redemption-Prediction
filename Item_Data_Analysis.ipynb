{
  "nbformat": 4,
  "nbformat_minor": 0,
  "metadata": {
    "colab": {
      "name": "Item Data Analysis.ipynb",
      "provenance": [],
      "include_colab_link": true
    },
    "kernelspec": {
      "display_name": "Python 3",
      "language": "python",
      "name": "python3"
    },
    "language_info": {
      "codemirror_mode": {
        "name": "ipython",
        "version": 3
      },
      "file_extension": ".py",
      "mimetype": "text/x-python",
      "name": "python",
      "nbconvert_exporter": "python",
      "pygments_lexer": "ipython3",
      "version": "3.6.2"
    }
  },
  "cells": [
    {
      "cell_type": "markdown",
      "metadata": {
        "id": "view-in-github",
        "colab_type": "text"
      },
      "source": [
        "<a href=\"https://colab.research.google.com/github/agolia14/Coupan-Redemption-Prediction/blob/Data-Exploration/Item_Data_Analysis.ipynb\" target=\"_parent\"><img src=\"https://colab.research.google.com/assets/colab-badge.svg\" alt=\"Open In Colab\"/></a>"
      ]
    },
    {
      "cell_type": "code",
      "metadata": {
        "colab_type": "code",
        "id": "hdnBAHuwyDYL",
        "colab": {}
      },
      "source": [
        "import pandas as pd\n",
        "from collections import Counter\n",
        "import pickle\n",
        "\n",
        "from sklearn.preprocessing import LabelEncoder"
      ],
      "execution_count": 0,
      "outputs": []
    },
    {
      "cell_type": "code",
      "metadata": {
        "colab_type": "code",
        "id": "2fi_9NzIyFah",
        "outputId": "d802bf93-7c7b-48a2-b1b7-ebf96323690b",
        "colab": {
          "base_uri": "https://localhost:8080/",
          "height": 85
        }
      },
      "source": [
        "!git init\n",
        "!git config --global user.email \"agolia14@gmail.com\"\n",
        "!git remote add origin https://AccessToken@github.com/agolia14/Coupan-Redemption-Prediction.git\n",
        "!git fetch\n",
        "!git checkout Data-Exploration"
      ],
      "execution_count": 50,
      "outputs": [
        {
          "output_type": "stream",
          "text": [
            "Reinitialized existing Git repository in /content/.git/\n",
            "fatal: remote origin already exists.\n",
            "Already on 'Data-Exploration'\n",
            "Your branch is up to date with 'origin/Data-Exploration'.\n"
          ],
          "name": "stdout"
        }
      ]
    },
    {
      "cell_type": "code",
      "metadata": {
        "colab_type": "code",
        "id": "ydFsVujRyJP2",
        "outputId": "58420574-9a70-4c62-a717-f5c4850ff14d",
        "colab": {
          "base_uri": "https://localhost:8080/",
          "height": 204
        }
      },
      "source": [
        "raw = pd.read_csv(\"data/train/item_data.csv\")\n",
        "raw.head()"
      ],
      "execution_count": 51,
      "outputs": [
        {
          "output_type": "execute_result",
          "data": {
            "text/html": [
              "<div>\n",
              "<style scoped>\n",
              "    .dataframe tbody tr th:only-of-type {\n",
              "        vertical-align: middle;\n",
              "    }\n",
              "\n",
              "    .dataframe tbody tr th {\n",
              "        vertical-align: top;\n",
              "    }\n",
              "\n",
              "    .dataframe thead th {\n",
              "        text-align: right;\n",
              "    }\n",
              "</style>\n",
              "<table border=\"1\" class=\"dataframe\">\n",
              "  <thead>\n",
              "    <tr style=\"text-align: right;\">\n",
              "      <th></th>\n",
              "      <th>item_id</th>\n",
              "      <th>brand</th>\n",
              "      <th>brand_type</th>\n",
              "      <th>category</th>\n",
              "    </tr>\n",
              "  </thead>\n",
              "  <tbody>\n",
              "    <tr>\n",
              "      <th>0</th>\n",
              "      <td>1</td>\n",
              "      <td>1</td>\n",
              "      <td>Established</td>\n",
              "      <td>Grocery</td>\n",
              "    </tr>\n",
              "    <tr>\n",
              "      <th>1</th>\n",
              "      <td>2</td>\n",
              "      <td>1</td>\n",
              "      <td>Established</td>\n",
              "      <td>Miscellaneous</td>\n",
              "    </tr>\n",
              "    <tr>\n",
              "      <th>2</th>\n",
              "      <td>3</td>\n",
              "      <td>56</td>\n",
              "      <td>Local</td>\n",
              "      <td>Bakery</td>\n",
              "    </tr>\n",
              "    <tr>\n",
              "      <th>3</th>\n",
              "      <td>4</td>\n",
              "      <td>56</td>\n",
              "      <td>Local</td>\n",
              "      <td>Grocery</td>\n",
              "    </tr>\n",
              "    <tr>\n",
              "      <th>4</th>\n",
              "      <td>5</td>\n",
              "      <td>56</td>\n",
              "      <td>Local</td>\n",
              "      <td>Grocery</td>\n",
              "    </tr>\n",
              "  </tbody>\n",
              "</table>\n",
              "</div>"
            ],
            "text/plain": [
              "   item_id  brand   brand_type       category\n",
              "0        1      1  Established        Grocery\n",
              "1        2      1  Established  Miscellaneous\n",
              "2        3     56        Local         Bakery\n",
              "3        4     56        Local        Grocery\n",
              "4        5     56        Local        Grocery"
            ]
          },
          "metadata": {
            "tags": []
          },
          "execution_count": 51
        }
      ]
    },
    {
      "cell_type": "code",
      "metadata": {
        "colab_type": "code",
        "id": "O2qgPeEkJwTy",
        "outputId": "9bf63224-2a5a-43c7-bbad-e7b44c53ce0b",
        "colab": {
          "base_uri": "https://localhost:8080/",
          "height": 34
        }
      },
      "source": [
        "Counter(raw.brand_type)"
      ],
      "execution_count": 52,
      "outputs": [
        {
          "output_type": "execute_result",
          "data": {
            "text/plain": [
              "Counter({'Established': 62842, 'Local': 11224})"
            ]
          },
          "metadata": {
            "tags": []
          },
          "execution_count": 52
        }
      ]
    },
    {
      "cell_type": "code",
      "metadata": {
        "colab_type": "code",
        "id": "kzf-cnnZJ203",
        "outputId": "0fddead9-8163-477e-a211-440b70b45306",
        "colab": {
          "base_uri": "https://localhost:8080/",
          "height": 340
        }
      },
      "source": [
        "Counter(raw.category)"
      ],
      "execution_count": 53,
      "outputs": [
        {
          "output_type": "execute_result",
          "data": {
            "text/plain": [
              "Counter({'Alcohol': 303,\n",
              "         'Bakery': 1679,\n",
              "         'Dairy, Juices & Snacks': 2425,\n",
              "         'Flowers & Plants': 664,\n",
              "         'Fuel': 14,\n",
              "         'Garden': 102,\n",
              "         'Grocery': 32448,\n",
              "         'Meat': 2080,\n",
              "         'Miscellaneous': 385,\n",
              "         'Natural Products': 2533,\n",
              "         'Packaged Meat': 1966,\n",
              "         'Pharmaceutical': 24471,\n",
              "         'Prepared Food': 1880,\n",
              "         'Restauarant': 78,\n",
              "         'Salads': 40,\n",
              "         'Seafood': 728,\n",
              "         'Skin & Hair Care': 2244,\n",
              "         'Travel': 19,\n",
              "         'Vegetables (cut)': 7})"
            ]
          },
          "metadata": {
            "tags": []
          },
          "execution_count": 53
        }
      ]
    },
    {
      "cell_type": "code",
      "metadata": {
        "colab_type": "code",
        "id": "feNxFLlVKEYU",
        "outputId": "609c593f-6383-4537-a1e7-073ce2b148e7",
        "colab": {
          "base_uri": "https://localhost:8080/",
          "height": 204
        }
      },
      "source": [
        "le = LabelEncoder()\n",
        "brand_type = pd.DataFrame([le.fit_transform(raw.brand_type)]).transpose()\n",
        "brand_type.columns = [\"enc_brand_type\"]\n",
        "category = pd.DataFrame([le.fit_transform(raw.category)]).transpose()\n",
        "category.columns = [\"enc_category\"]\n",
        "\n",
        "data_enc = pd.concat([raw, brand_type, category], axis=1)\n",
        "data_enc.head()"
      ],
      "execution_count": 54,
      "outputs": [
        {
          "output_type": "execute_result",
          "data": {
            "text/html": [
              "<div>\n",
              "<style scoped>\n",
              "    .dataframe tbody tr th:only-of-type {\n",
              "        vertical-align: middle;\n",
              "    }\n",
              "\n",
              "    .dataframe tbody tr th {\n",
              "        vertical-align: top;\n",
              "    }\n",
              "\n",
              "    .dataframe thead th {\n",
              "        text-align: right;\n",
              "    }\n",
              "</style>\n",
              "<table border=\"1\" class=\"dataframe\">\n",
              "  <thead>\n",
              "    <tr style=\"text-align: right;\">\n",
              "      <th></th>\n",
              "      <th>item_id</th>\n",
              "      <th>brand</th>\n",
              "      <th>brand_type</th>\n",
              "      <th>category</th>\n",
              "      <th>enc_brand_type</th>\n",
              "      <th>enc_category</th>\n",
              "    </tr>\n",
              "  </thead>\n",
              "  <tbody>\n",
              "    <tr>\n",
              "      <th>0</th>\n",
              "      <td>1</td>\n",
              "      <td>1</td>\n",
              "      <td>Established</td>\n",
              "      <td>Grocery</td>\n",
              "      <td>0</td>\n",
              "      <td>6</td>\n",
              "    </tr>\n",
              "    <tr>\n",
              "      <th>1</th>\n",
              "      <td>2</td>\n",
              "      <td>1</td>\n",
              "      <td>Established</td>\n",
              "      <td>Miscellaneous</td>\n",
              "      <td>0</td>\n",
              "      <td>8</td>\n",
              "    </tr>\n",
              "    <tr>\n",
              "      <th>2</th>\n",
              "      <td>3</td>\n",
              "      <td>56</td>\n",
              "      <td>Local</td>\n",
              "      <td>Bakery</td>\n",
              "      <td>1</td>\n",
              "      <td>1</td>\n",
              "    </tr>\n",
              "    <tr>\n",
              "      <th>3</th>\n",
              "      <td>4</td>\n",
              "      <td>56</td>\n",
              "      <td>Local</td>\n",
              "      <td>Grocery</td>\n",
              "      <td>1</td>\n",
              "      <td>6</td>\n",
              "    </tr>\n",
              "    <tr>\n",
              "      <th>4</th>\n",
              "      <td>5</td>\n",
              "      <td>56</td>\n",
              "      <td>Local</td>\n",
              "      <td>Grocery</td>\n",
              "      <td>1</td>\n",
              "      <td>6</td>\n",
              "    </tr>\n",
              "  </tbody>\n",
              "</table>\n",
              "</div>"
            ],
            "text/plain": [
              "   item_id  brand   brand_type       category  enc_brand_type  enc_category\n",
              "0        1      1  Established        Grocery               0             6\n",
              "1        2      1  Established  Miscellaneous               0             8\n",
              "2        3     56        Local         Bakery               1             1\n",
              "3        4     56        Local        Grocery               1             6\n",
              "4        5     56        Local        Grocery               1             6"
            ]
          },
          "metadata": {
            "tags": []
          },
          "execution_count": 54
        }
      ]
    },
    {
      "cell_type": "code",
      "metadata": {
        "colab_type": "code",
        "id": "EAnT2t-oS08r",
        "outputId": "db7637ff-b034-4a8e-9999-ebc5984d3c53",
        "colab": {
          "base_uri": "https://localhost:8080/",
          "height": 292
        }
      },
      "source": [
        "data_enc_oneHot = pd.concat([data_enc, \n",
        "                             pd.get_dummies(data_enc.brand_type, prefix = \"brand\"),\n",
        "                             pd.get_dummies(data_enc.category)], axis=1)\n",
        "\n",
        "data_enc_oneHot.drop(['brand_type', 'category'], axis=1, inplace=True)\n",
        "print(\"Shape = \", data_enc_oneHot.shape)\n",
        "data_enc_oneHot.head()"
      ],
      "execution_count": 55,
      "outputs": [
        {
          "output_type": "stream",
          "text": [
            "Shape =  (74066, 25)\n"
          ],
          "name": "stdout"
        },
        {
          "output_type": "execute_result",
          "data": {
            "text/html": [
              "<div>\n",
              "<style scoped>\n",
              "    .dataframe tbody tr th:only-of-type {\n",
              "        vertical-align: middle;\n",
              "    }\n",
              "\n",
              "    .dataframe tbody tr th {\n",
              "        vertical-align: top;\n",
              "    }\n",
              "\n",
              "    .dataframe thead th {\n",
              "        text-align: right;\n",
              "    }\n",
              "</style>\n",
              "<table border=\"1\" class=\"dataframe\">\n",
              "  <thead>\n",
              "    <tr style=\"text-align: right;\">\n",
              "      <th></th>\n",
              "      <th>item_id</th>\n",
              "      <th>brand</th>\n",
              "      <th>enc_brand_type</th>\n",
              "      <th>enc_category</th>\n",
              "      <th>brand_Established</th>\n",
              "      <th>brand_Local</th>\n",
              "      <th>Alcohol</th>\n",
              "      <th>Bakery</th>\n",
              "      <th>Dairy, Juices &amp; Snacks</th>\n",
              "      <th>Flowers &amp; Plants</th>\n",
              "      <th>Fuel</th>\n",
              "      <th>Garden</th>\n",
              "      <th>Grocery</th>\n",
              "      <th>Meat</th>\n",
              "      <th>Miscellaneous</th>\n",
              "      <th>Natural Products</th>\n",
              "      <th>Packaged Meat</th>\n",
              "      <th>Pharmaceutical</th>\n",
              "      <th>Prepared Food</th>\n",
              "      <th>Restauarant</th>\n",
              "      <th>Salads</th>\n",
              "      <th>Seafood</th>\n",
              "      <th>Skin &amp; Hair Care</th>\n",
              "      <th>Travel</th>\n",
              "      <th>Vegetables (cut)</th>\n",
              "    </tr>\n",
              "  </thead>\n",
              "  <tbody>\n",
              "    <tr>\n",
              "      <th>0</th>\n",
              "      <td>1</td>\n",
              "      <td>1</td>\n",
              "      <td>0</td>\n",
              "      <td>6</td>\n",
              "      <td>1</td>\n",
              "      <td>0</td>\n",
              "      <td>0</td>\n",
              "      <td>0</td>\n",
              "      <td>0</td>\n",
              "      <td>0</td>\n",
              "      <td>0</td>\n",
              "      <td>0</td>\n",
              "      <td>1</td>\n",
              "      <td>0</td>\n",
              "      <td>0</td>\n",
              "      <td>0</td>\n",
              "      <td>0</td>\n",
              "      <td>0</td>\n",
              "      <td>0</td>\n",
              "      <td>0</td>\n",
              "      <td>0</td>\n",
              "      <td>0</td>\n",
              "      <td>0</td>\n",
              "      <td>0</td>\n",
              "      <td>0</td>\n",
              "    </tr>\n",
              "    <tr>\n",
              "      <th>1</th>\n",
              "      <td>2</td>\n",
              "      <td>1</td>\n",
              "      <td>0</td>\n",
              "      <td>8</td>\n",
              "      <td>1</td>\n",
              "      <td>0</td>\n",
              "      <td>0</td>\n",
              "      <td>0</td>\n",
              "      <td>0</td>\n",
              "      <td>0</td>\n",
              "      <td>0</td>\n",
              "      <td>0</td>\n",
              "      <td>0</td>\n",
              "      <td>0</td>\n",
              "      <td>1</td>\n",
              "      <td>0</td>\n",
              "      <td>0</td>\n",
              "      <td>0</td>\n",
              "      <td>0</td>\n",
              "      <td>0</td>\n",
              "      <td>0</td>\n",
              "      <td>0</td>\n",
              "      <td>0</td>\n",
              "      <td>0</td>\n",
              "      <td>0</td>\n",
              "    </tr>\n",
              "    <tr>\n",
              "      <th>2</th>\n",
              "      <td>3</td>\n",
              "      <td>56</td>\n",
              "      <td>1</td>\n",
              "      <td>1</td>\n",
              "      <td>0</td>\n",
              "      <td>1</td>\n",
              "      <td>0</td>\n",
              "      <td>1</td>\n",
              "      <td>0</td>\n",
              "      <td>0</td>\n",
              "      <td>0</td>\n",
              "      <td>0</td>\n",
              "      <td>0</td>\n",
              "      <td>0</td>\n",
              "      <td>0</td>\n",
              "      <td>0</td>\n",
              "      <td>0</td>\n",
              "      <td>0</td>\n",
              "      <td>0</td>\n",
              "      <td>0</td>\n",
              "      <td>0</td>\n",
              "      <td>0</td>\n",
              "      <td>0</td>\n",
              "      <td>0</td>\n",
              "      <td>0</td>\n",
              "    </tr>\n",
              "    <tr>\n",
              "      <th>3</th>\n",
              "      <td>4</td>\n",
              "      <td>56</td>\n",
              "      <td>1</td>\n",
              "      <td>6</td>\n",
              "      <td>0</td>\n",
              "      <td>1</td>\n",
              "      <td>0</td>\n",
              "      <td>0</td>\n",
              "      <td>0</td>\n",
              "      <td>0</td>\n",
              "      <td>0</td>\n",
              "      <td>0</td>\n",
              "      <td>1</td>\n",
              "      <td>0</td>\n",
              "      <td>0</td>\n",
              "      <td>0</td>\n",
              "      <td>0</td>\n",
              "      <td>0</td>\n",
              "      <td>0</td>\n",
              "      <td>0</td>\n",
              "      <td>0</td>\n",
              "      <td>0</td>\n",
              "      <td>0</td>\n",
              "      <td>0</td>\n",
              "      <td>0</td>\n",
              "    </tr>\n",
              "    <tr>\n",
              "      <th>4</th>\n",
              "      <td>5</td>\n",
              "      <td>56</td>\n",
              "      <td>1</td>\n",
              "      <td>6</td>\n",
              "      <td>0</td>\n",
              "      <td>1</td>\n",
              "      <td>0</td>\n",
              "      <td>0</td>\n",
              "      <td>0</td>\n",
              "      <td>0</td>\n",
              "      <td>0</td>\n",
              "      <td>0</td>\n",
              "      <td>1</td>\n",
              "      <td>0</td>\n",
              "      <td>0</td>\n",
              "      <td>0</td>\n",
              "      <td>0</td>\n",
              "      <td>0</td>\n",
              "      <td>0</td>\n",
              "      <td>0</td>\n",
              "      <td>0</td>\n",
              "      <td>0</td>\n",
              "      <td>0</td>\n",
              "      <td>0</td>\n",
              "      <td>0</td>\n",
              "    </tr>\n",
              "  </tbody>\n",
              "</table>\n",
              "</div>"
            ],
            "text/plain": [
              "   item_id  brand  enc_brand_type  ...  Skin & Hair Care  Travel  Vegetables (cut)\n",
              "0        1      1               0  ...                 0       0                 0\n",
              "1        2      1               0  ...                 0       0                 0\n",
              "2        3     56               1  ...                 0       0                 0\n",
              "3        4     56               1  ...                 0       0                 0\n",
              "4        5     56               1  ...                 0       0                 0\n",
              "\n",
              "[5 rows x 25 columns]"
            ]
          },
          "metadata": {
            "tags": []
          },
          "execution_count": 55
        }
      ]
    },
    {
      "cell_type": "code",
      "metadata": {
        "colab_type": "code",
        "id": "2Br8aKGoTj3Y",
        "outputId": "3f56a1bf-ce16-4e14-d713-87bf423310a6",
        "colab": {
          "base_uri": "https://localhost:8080/",
          "height": 187
        }
      },
      "source": [
        "npFile = open(\"npy/item_data.npy\",\"wb\")\n",
        "pickle.dump(data_enc_oneHot, npFile)\n",
        "npFile.close()\n",
        "\n",
        "!git add npy/item_data.npy\n",
        "!git commit -m \"Adding Item Data npy\"\n",
        "!git push origin"
      ],
      "execution_count": 56,
      "outputs": [
        {
          "output_type": "stream",
          "text": [
            "[Data-Exploration 33e4443] Adding Item Data npy\n",
            " 1 file changed, 0 insertions(+), 0 deletions(-)\n",
            "Counting objects: 4, done.\n",
            "Delta compression using up to 2 threads.\n",
            "Compressing objects: 100% (4/4), done.\n",
            "Writing objects: 100% (4/4), 5.55 KiB | 105.00 KiB/s, done.\n",
            "Total 4 (delta 3), reused 0 (delta 0)\n",
            "remote: Resolving deltas: 100% (3/3), completed with 3 local objects.\u001b[K\n",
            "To https://github.com/agolia14/Coupan-Redemption-Prediction.git\n",
            "   b3ad753..33e4443  Data-Exploration -> Data-Exploration\n"
          ],
          "name": "stdout"
        }
      ]
    }
  ]
}
