{
 "cells": [
  {
   "cell_type": "markdown",
   "metadata": {
    "colab_type": "text",
    "id": "view-in-github"
   },
   "source": [
    "<a href=\"https://colab.research.google.com/github/agolia14/Coupan-Redemption-Prediction/blob/Data-Exploration/CampaignData_Analysis.ipynb\" target=\"_parent\"><img src=\"https://colab.research.google.com/assets/colab-badge.svg\" alt=\"Open In Colab\"/></a>"
   ]
  },
  {
   "cell_type": "code",
   "execution_count": null,
   "metadata": {
    "colab": {},
    "colab_type": "code",
    "id": "v_hMnP3o8AgO"
   },
   "outputs": [],
   "source": [
    "import pandas as pd\n",
    "from collections import Counter\n",
    "import pickle\n",
    "\n",
    "from sklearn.preprocessing import LabelEncoder"
   ]
  },
  {
   "cell_type": "markdown",
   "metadata": {
    "colab": {
     "base_uri": "https://localhost:8080/",
     "height": 204
    },
    "colab_type": "code",
    "id": "kCIzWfxZ8mMo",
    "outputId": "443b4383-4d4e-4a2f-9bec-66a56bd51056"
   },
   "source": [
    "!git init\n",
    "!git config --global user.email \"agolia14@gmail.com\"\n",
    "!git remote add origin https://d0e5c5d2c5891214a6eb9a978deb96f359421b01@github.com/agolia14/Coupan-Redemption-Prediction.git\n",
    "!git fetch\n",
    "!git checkout Data-Exploration"
   ]
  },
  {
   "cell_type": "code",
   "execution_count": null,
   "metadata": {
    "colab": {
     "base_uri": "https://localhost:8080/",
     "height": 204
    },
    "colab_type": "code",
    "id": "BQrdGU0m8pYP",
    "outputId": "0eec3b5e-8ee1-4f8c-e011-c2e71dc64200"
   },
   "outputs": [],
   "source": [
    "raw = pd.read_csv(\"data/train/campaign_data.csv\", parse_dates=['start_date', 'end_date'])\n",
    "raw.head()"
   ]
  },
  {
   "cell_type": "code",
   "execution_count": null,
   "metadata": {
    "colab": {
     "base_uri": "https://localhost:8080/",
     "height": 204
    },
    "colab_type": "code",
    "id": "XlnVe2yi82a3",
    "outputId": "03c2d936-513b-47af-cea1-91406fac2f19"
   },
   "outputs": [],
   "source": [
    "data = pd.concat([raw,\n",
    "           pd.DataFrame(columns=[\"start_day\",\"start_month\",\"start_year\",\"end_day\",\"end_month\",\"end_year\"])],\n",
    "         axis=1)\n",
    "data.head()"
   ]
  },
  {
   "cell_type": "code",
   "execution_count": null,
   "metadata": {
    "colab": {
     "base_uri": "https://localhost:8080/",
     "height": 204
    },
    "colab_type": "code",
    "id": "SfCuJNPATygz",
    "outputId": "8e120c46-093b-4738-ea66-0c7833ce3f3a"
   },
   "outputs": [],
   "source": [
    "data.start_day = [date.day for date in data.start_date]\n",
    "data.start_month = [date.month for date in data.start_date]\n",
    "data.start_year = [date.year-2000 for date in data.start_date]\n",
    "data.end_day = [date.day for date in data.end_date]\n",
    "data.end_month = [date.month for date in data.end_date]\n",
    "data.end_year = [date.year-2000 for date in data.end_date]\n",
    "data.head()"
   ]
  },
  {
   "cell_type": "code",
   "execution_count": null,
   "metadata": {
    "colab": {
     "base_uri": "https://localhost:8080/",
     "height": 204
    },
    "colab_type": "code",
    "id": "HK07ZVPMWEjm",
    "outputId": "e9a903a8-8e5a-4435-86ed-3427f63523d5"
   },
   "outputs": [],
   "source": [
    "le = LabelEncoder()\n",
    "campaign_type = pd.DataFrame([le.fit_transform(raw.campaign_type)]).transpose()\n",
    "campaign_type.columns = [\"enc_campaign_type\"]\n",
    "\n",
    "data_enc = pd.concat([data, campaign_type], axis=1)\n",
    "data_enc.head()"
   ]
  },
  {
   "cell_type": "code",
   "execution_count": null,
   "metadata": {
    "colab": {
     "base_uri": "https://localhost:8080/",
     "height": 309
    },
    "colab_type": "code",
    "id": "u-ZFfjZtWEyP",
    "outputId": "7a88a481-85c6-4f9b-c830-4dfb4850ca48"
   },
   "outputs": [],
   "source": [
    "data_enc_oneHot = pd.concat([data_enc, \n",
    "                             pd.get_dummies(data_enc.campaign_type, prefix = \"campaign\")], axis=1)\n",
    "data_enc_oneHot.head()"
   ]
  },
  {
   "cell_type": "code",
   "execution_count": null,
   "metadata": {
    "colab": {
     "base_uri": "https://localhost:8080/",
     "height": 204
    },
    "colab_type": "code",
    "id": "-D00cUXbVxrG",
    "outputId": "f158833c-0d62-4a95-fc27-d9996e287fee"
   },
   "outputs": [],
   "source": [
    "npFile = open(\"npy/campaign_data.npy\",\"wb\")\n",
    "pickle.dump(data_enc_oneHot, npFile)\n",
    "npFile.close()"
   ]
  },
  {
   "cell_type": "markdown",
   "metadata": {},
   "source": [
    "!git add npy/campaign_data.npy\n",
    "!git commit -m \"Adding Campaign Data npy\"\n",
    "!git push origin"
   ]
  }
 ],
 "metadata": {
  "colab": {
   "include_colab_link": true,
   "name": "CampaignData Analysis.ipynb",
   "provenance": []
  },
  "kernelspec": {
   "display_name": "Python 3",
   "language": "python",
   "name": "python3"
  },
  "language_info": {
   "codemirror_mode": {
    "name": "ipython",
    "version": 3
   },
   "file_extension": ".py",
   "mimetype": "text/x-python",
   "name": "python",
   "nbconvert_exporter": "python",
   "pygments_lexer": "ipython3",
   "version": "3.6.2"
  }
 },
 "nbformat": 4,
 "nbformat_minor": 1
}
