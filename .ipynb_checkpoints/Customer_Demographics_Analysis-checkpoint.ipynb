{
 "cells": [
  {
   "cell_type": "markdown",
   "metadata": {
    "colab_type": "text",
    "id": "view-in-github"
   },
   "source": [
    "<a href=\"https://colab.research.google.com/github/agolia14/Coupan-Redemption-Prediction/blob/Data-Exploration/Customer_Demographics_Analysis.ipynb\" target=\"_parent\"><img src=\"https://colab.research.google.com/assets/colab-badge.svg\" alt=\"Open In Colab\"/></a>"
   ]
  },
  {
   "cell_type": "code",
   "execution_count": 1,
   "metadata": {
    "colab": {},
    "colab_type": "code",
    "id": "e8mmZimSfmkD"
   },
   "outputs": [],
   "source": [
    "import pandas as pd\n",
    "from collections import Counter\n",
    "import pickle\n",
    "\n",
    "from sklearn.preprocessing import LabelEncoder"
   ]
  },
  {
   "cell_type": "markdown",
   "metadata": {
    "colab": {
     "base_uri": "https://localhost:8080/",
     "height": 204
    },
    "colab_type": "code",
    "id": "Ww-1UPeKfr-l",
    "outputId": "cf0cab52-9f6b-46b1-ecf6-670e3fa038ac"
   },
   "source": [
    "!git init\n",
    "!git config --global user.email \"agolia14@gmail.com\"\n",
    "!git remote add origin https://d0e5c5d2c5891214a6eb9a978deb96f359421b01@github.com/agolia14/Coupan-Redemption-Prediction.git\n",
    "!git fetch\n",
    "!git checkout Data-Exploration"
   ]
  },
  {
   "cell_type": "code",
   "execution_count": 2,
   "metadata": {
    "colab": {
     "base_uri": "https://localhost:8080/",
     "height": 204
    },
    "colab_type": "code",
    "id": "-S0IhM26fvdj",
    "outputId": "40cb0e66-69d9-4d43-8391-ba4a4b2a6e08"
   },
   "outputs": [
    {
     "data": {
      "text/html": [
       "<div>\n",
       "<style scoped>\n",
       "    .dataframe tbody tr th:only-of-type {\n",
       "        vertical-align: middle;\n",
       "    }\n",
       "\n",
       "    .dataframe tbody tr th {\n",
       "        vertical-align: top;\n",
       "    }\n",
       "\n",
       "    .dataframe thead th {\n",
       "        text-align: right;\n",
       "    }\n",
       "</style>\n",
       "<table border=\"1\" class=\"dataframe\">\n",
       "  <thead>\n",
       "    <tr style=\"text-align: right;\">\n",
       "      <th></th>\n",
       "      <th>customer_id</th>\n",
       "      <th>age_range</th>\n",
       "      <th>marital_status</th>\n",
       "      <th>rented</th>\n",
       "      <th>family_size</th>\n",
       "      <th>no_of_children</th>\n",
       "      <th>income_bracket</th>\n",
       "    </tr>\n",
       "  </thead>\n",
       "  <tbody>\n",
       "    <tr>\n",
       "      <th>0</th>\n",
       "      <td>1</td>\n",
       "      <td>70+</td>\n",
       "      <td>Married</td>\n",
       "      <td>0</td>\n",
       "      <td>2</td>\n",
       "      <td>NaN</td>\n",
       "      <td>4</td>\n",
       "    </tr>\n",
       "    <tr>\n",
       "      <th>1</th>\n",
       "      <td>6</td>\n",
       "      <td>46-55</td>\n",
       "      <td>Married</td>\n",
       "      <td>0</td>\n",
       "      <td>2</td>\n",
       "      <td>NaN</td>\n",
       "      <td>5</td>\n",
       "    </tr>\n",
       "    <tr>\n",
       "      <th>2</th>\n",
       "      <td>7</td>\n",
       "      <td>26-35</td>\n",
       "      <td>NaN</td>\n",
       "      <td>0</td>\n",
       "      <td>3</td>\n",
       "      <td>1</td>\n",
       "      <td>3</td>\n",
       "    </tr>\n",
       "    <tr>\n",
       "      <th>3</th>\n",
       "      <td>8</td>\n",
       "      <td>26-35</td>\n",
       "      <td>NaN</td>\n",
       "      <td>0</td>\n",
       "      <td>4</td>\n",
       "      <td>2</td>\n",
       "      <td>6</td>\n",
       "    </tr>\n",
       "    <tr>\n",
       "      <th>4</th>\n",
       "      <td>10</td>\n",
       "      <td>46-55</td>\n",
       "      <td>Single</td>\n",
       "      <td>0</td>\n",
       "      <td>1</td>\n",
       "      <td>NaN</td>\n",
       "      <td>5</td>\n",
       "    </tr>\n",
       "  </tbody>\n",
       "</table>\n",
       "</div>"
      ],
      "text/plain": [
       "   customer_id age_range marital_status  rented family_size no_of_children  \\\n",
       "0            1       70+        Married       0           2            NaN   \n",
       "1            6     46-55        Married       0           2            NaN   \n",
       "2            7     26-35            NaN       0           3              1   \n",
       "3            8     26-35            NaN       0           4              2   \n",
       "4           10     46-55         Single       0           1            NaN   \n",
       "\n",
       "   income_bracket  \n",
       "0               4  \n",
       "1               5  \n",
       "2               3  \n",
       "3               6  \n",
       "4               5  "
      ]
     },
     "execution_count": 2,
     "metadata": {},
     "output_type": "execute_result"
    }
   ],
   "source": [
    "raw = pd.read_csv(\"data/train/customer_demographics.csv\")\n",
    "raw.head()"
   ]
  },
  {
   "cell_type": "code",
   "execution_count": 21,
   "metadata": {
    "colab": {},
    "colab_type": "code",
    "id": "kH16z3KzgJ_d"
   },
   "outputs": [
    {
     "name": "stdout",
     "output_type": "stream",
     "text": [
      "age_range =  Counter({'46-55': 271, '36-45': 187, '26-35': 130, '70+': 68, '56-70': 59, '18-25': 45})\n",
      "marital_status =  Counter({'Married': 317, 'Single': 297, nan: 146})\n",
      "rented =  Counter({0: 719, 1: 41})\n",
      "family_size =  Counter({'2': 303, '1': 248, '3': 104, 5: 57, '4': 48})\n",
      "no_of_children =  Counter({nan: 290, 0: 248, '1': 107, 3: 60, '2': 55})\n",
      "income_bracket =  Counter({5: 187, 4: 165, 6: 88, 3: 70, 2: 68, 1: 59, 8: 37, 7: 32, 9: 29, 12: 10, 10: 10, 11: 5})\n"
     ]
    }
   ],
   "source": [
    "raw.replace(\"3+\", 3, inplace=True)\n",
    "raw.replace(\"5+\", 5, inplace=True)\n",
    "raw = raw.infer_objects()\n",
    "print(\"age_range = \", Counter(raw.age_range))\n",
    "print(\"marital_status = \", Counter(raw.marital_status))\n",
    "print(\"rented = \", Counter(raw.rented))\n",
    "print(\"family_size = \", Counter(raw.family_size))\n",
    "print(\"no_of_children = \", Counter(raw.no_of_children))\n",
    "print(\"income_bracket = \", Counter(raw.income_bracket))"
   ]
  },
  {
   "cell_type": "code",
   "execution_count": 23,
   "metadata": {
    "colab": {},
    "colab_type": "code",
    "id": "8viwC1ZMgy97"
   },
   "outputs": [
    {
     "name": "stdout",
     "output_type": "stream",
     "text": [
      "Counter({0: 248})\n",
      "Counter({'Single': 248})\n"
     ]
    }
   ],
   "source": [
    "print(Counter(raw.no_of_children[raw.family_size == \"1\"]))\n",
    "print(Counter(raw.marital_status[raw.family_size == \"1\"]))"
   ]
  },
  {
   "cell_type": "code",
   "execution_count": 31,
   "metadata": {},
   "outputs": [
    {
     "name": "stdout",
     "output_type": "stream",
     "text": [
      "Counter({nan: 290, '1': 13})\n",
      "Counter({'Married': 175, nan: 97, 'Single': 31})\n"
     ]
    }
   ],
   "source": [
    "print(Counter(raw.no_of_children[raw.family_size == \"2\"]))\n",
    "print(Counter(raw.marital_status[raw.family_size == \"2\"]))"
   ]
  },
  {
   "cell_type": "code",
   "execution_count": 25,
   "metadata": {},
   "outputs": [
    {
     "name": "stdout",
     "output_type": "stream",
     "text": [
      "Counter({'1': 94, '2': 10})\n",
      "Counter({'Married': 63, nan: 30, 'Single': 11})\n"
     ]
    }
   ],
   "source": [
    "print(Counter(raw.no_of_children[raw.family_size == \"3\"]))\n",
    "print(Counter(raw.marital_status[raw.family_size == \"3\"]))"
   ]
  },
  {
   "cell_type": "code",
   "execution_count": 26,
   "metadata": {},
   "outputs": [
    {
     "name": "stdout",
     "output_type": "stream",
     "text": [
      "Counter({'2': 45, 3: 3})\n",
      "Counter({'Married': 31, nan: 13, 'Single': 4})\n"
     ]
    }
   ],
   "source": [
    "print(Counter(raw.no_of_children[raw.family_size == \"4\"]))\n",
    "print(Counter(raw.marital_status[raw.family_size == \"4\"]))"
   ]
  },
  {
   "cell_type": "code",
   "execution_count": 27,
   "metadata": {},
   "outputs": [
    {
     "name": "stdout",
     "output_type": "stream",
     "text": [
      "Counter({3: 57})\n",
      "Counter({'Married': 48, nan: 6, 'Single': 3})\n"
     ]
    }
   ],
   "source": [
    "print(Counter(raw.no_of_children[raw.family_size == 5]))\n",
    "print(Counter(raw.marital_status[raw.family_size == 5]))"
   ]
  },
  {
   "cell_type": "code",
   "execution_count": 32,
   "metadata": {},
   "outputs": [
    {
     "name": "stderr",
     "output_type": "stream",
     "text": [
      "c:\\users\\ashu\\appdata\\local\\programs\\python\\python36\\lib\\site-packages\\ipykernel_launcher.py:1: SettingWithCopyWarning: \n",
      "A value is trying to be set on a copy of a slice from a DataFrame\n",
      "\n",
      "See the caveats in the documentation: http://pandas.pydata.org/pandas-docs/stable/indexing.html#indexing-view-versus-copy\n",
      "  \"\"\"Entry point for launching an IPython kernel.\n",
      "c:\\users\\ashu\\appdata\\local\\programs\\python\\python36\\lib\\site-packages\\ipykernel_launcher.py:2: SettingWithCopyWarning: \n",
      "A value is trying to be set on a copy of a slice from a DataFrame\n",
      "\n",
      "See the caveats in the documentation: http://pandas.pydata.org/pandas-docs/stable/indexing.html#indexing-view-versus-copy\n",
      "  \n"
     ]
    }
   ],
   "source": [
    "raw.no_of_children[raw.family_size == \"1\"] = 0\n",
    "raw.marital_status[raw.family_size == \"1\"] = 'Single'\n",
    "\n",
    "raw.no_of_children[raw.family_size == \"2\"][raw.marital_status == 'Married'] = 0\n",
    "raw.no_of_children[raw.family_size == \"2\"][raw.marital_status == 'Single'] = 1\n",
    "raw.marital_status[raw.family_size == \"2\"][raw.no_of_children == '1'] = 'Single'\n",
    "\n",
    "raw.marital_status[raw.family_size == \"3\"][raw.no_of_children == '2'] = 'Single'"
   ]
  },
  {
   "cell_type": "code",
   "execution_count": null,
   "metadata": {},
   "outputs": [],
   "source": []
  }
 ],
 "metadata": {
  "colab": {
   "include_colab_link": true,
   "name": "Customer Demographics Analysis.ipynb",
   "provenance": []
  },
  "kernelspec": {
   "display_name": "Python 3",
   "language": "python",
   "name": "python3"
  },
  "language_info": {
   "codemirror_mode": {
    "name": "ipython",
    "version": 3
   },
   "file_extension": ".py",
   "mimetype": "text/x-python",
   "name": "python",
   "nbconvert_exporter": "python",
   "pygments_lexer": "ipython3",
   "version": "3.6.2"
  }
 },
 "nbformat": 4,
 "nbformat_minor": 1
}
