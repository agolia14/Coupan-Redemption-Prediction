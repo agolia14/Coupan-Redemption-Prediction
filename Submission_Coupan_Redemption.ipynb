{
  "nbformat": 4,
  "nbformat_minor": 0,
  "metadata": {
    "colab": {
      "name": "Submission Coupan Redemption.ipynb",
      "provenance": [],
      "include_colab_link": true
    },
    "kernelspec": {
      "name": "python3",
      "display_name": "Python 3"
    }
  },
  "cells": [
    {
      "cell_type": "markdown",
      "metadata": {
        "id": "view-in-github",
        "colab_type": "text"
      },
      "source": [
        "<a href=\"https://colab.research.google.com/github/agolia14/Coupan-Redemption-Prediction/blob/Data-Exploration/Submission_Coupan_Redemption.ipynb\" target=\"_parent\"><img src=\"https://colab.research.google.com/assets/colab-badge.svg\" alt=\"Open In Colab\"/></a>"
      ]
    },
    {
      "cell_type": "code",
      "metadata": {
        "id": "N3O4jXZGGV-p",
        "colab_type": "code",
        "colab": {}
      },
      "source": [
        "import pandas as pd\n",
        "import numpy as np\n",
        "from collections import Counter\n",
        "\n",
        "from keras import Sequential\n",
        "from keras.layers import *\n",
        "\n",
        "from sklearn.metrics import roc_auc_score\n",
        "from sklearn.metrics import accuracy_score\n",
        "from sklearn.model_selection import train_test_split\n",
        "\n",
        "from sklearn.pipeline import Pipeline\n",
        "from sklearn.model_selection import StratifiedKFold\n",
        "from sklearn.model_selection import KFold\n",
        "from keras.wrappers.scikit_learn import KerasClassifier\n",
        "from sklearn.model_selection import cross_val_score\n",
        "\n",
        "from tensorflow.metrics import auc\n",
        "from keras import regularizers\n",
        "import tensorflow as tf\n",
        "\n",
        "from sklearn.utils import shuffle\n",
        "\n",
        "from sklearn.ensemble import RandomForestClassifier\n",
        "from xgboost import XGBClassifier"
      ],
      "execution_count": 0,
      "outputs": []
    },
    {
      "cell_type": "code",
      "metadata": {
        "id": "RintydwvGgG-",
        "colab_type": "code",
        "colab": {
          "base_uri": "https://localhost:8080/",
          "height": 187
        },
        "outputId": "50482f82-5d13-40be-d693-c23d11475d77"
      },
      "source": [
        "!git init\n",
        "!git config --global user.email \"agolia14@gmail.com\"\n",
        "!git remote add origin https://d0e5c5d2c5891214a6eb9a978deb96f359421b01@github.com/agolia14/Coupan-Redemption-Prediction.git\n",
        "!git fetch\n",
        "!git checkout Data-Exploration"
      ],
      "execution_count": 2,
      "outputs": [
        {
          "output_type": "stream",
          "text": [
            "Initialized empty Git repository in /content/.git/\n",
            "remote: Enumerating objects: 195, done.\u001b[K\n",
            "remote: Total 195 (delta 0), reused 0 (delta 0), pack-reused 195\u001b[K\n",
            "Receiving objects: 100% (195/195), 11.91 MiB | 12.18 MiB/s, done.\n",
            "Resolving deltas: 100% (103/103), done.\n",
            "From https://github.com/agolia14/Coupan-Redemption-Prediction\n",
            " * [new branch]      Data-Exploration -> origin/Data-Exploration\n",
            " * [new branch]      master           -> origin/master\n",
            "Branch 'Data-Exploration' set up to track remote branch 'Data-Exploration' from 'origin'.\n",
            "Switched to a new branch 'Data-Exploration'\n"
          ],
          "name": "stdout"
        }
      ]
    },
    {
      "cell_type": "code",
      "metadata": {
        "id": "3oTbIddSGi6m",
        "colab_type": "code",
        "colab": {
          "base_uri": "https://localhost:8080/",
          "height": 221
        },
        "outputId": "80f11fbd-d6c2-4da1-e76f-2b1f363b7e48"
      },
      "source": [
        "raw = pd.read_csv(\"data/train/train.csv\")\n",
        "campaign_data = np.load(\"npy/campaign_data.npy\", allow_pickle=True)\n",
        "coup_item_map = pd.read_csv(\"data/train/coupon_item_mapping.csv\")\n",
        "#cust_trans = np.load(\"npy/customer_transaction_data.npy\", allow_pickle=True)\n",
        "cust_demographics = np.load(\"npy/customer_demographics.npy\", allow_pickle=True)\n",
        "item_data = np.load(\"npy/item_data.npy\", allow_pickle=True)\n",
        "test = pd.read_csv(\"data/test.csv\")\n",
        "print(\"Shape = \", raw.shape)\n",
        "raw.head()"
      ],
      "execution_count": 5,
      "outputs": [
        {
          "output_type": "stream",
          "text": [
            "Shape =  (78369, 5)\n"
          ],
          "name": "stdout"
        },
        {
          "output_type": "execute_result",
          "data": {
            "text/html": [
              "<div>\n",
              "<style scoped>\n",
              "    .dataframe tbody tr th:only-of-type {\n",
              "        vertical-align: middle;\n",
              "    }\n",
              "\n",
              "    .dataframe tbody tr th {\n",
              "        vertical-align: top;\n",
              "    }\n",
              "\n",
              "    .dataframe thead th {\n",
              "        text-align: right;\n",
              "    }\n",
              "</style>\n",
              "<table border=\"1\" class=\"dataframe\">\n",
              "  <thead>\n",
              "    <tr style=\"text-align: right;\">\n",
              "      <th></th>\n",
              "      <th>id</th>\n",
              "      <th>campaign_id</th>\n",
              "      <th>coupon_id</th>\n",
              "      <th>customer_id</th>\n",
              "      <th>redemption_status</th>\n",
              "    </tr>\n",
              "  </thead>\n",
              "  <tbody>\n",
              "    <tr>\n",
              "      <th>0</th>\n",
              "      <td>1</td>\n",
              "      <td>13</td>\n",
              "      <td>27</td>\n",
              "      <td>1053</td>\n",
              "      <td>0</td>\n",
              "    </tr>\n",
              "    <tr>\n",
              "      <th>1</th>\n",
              "      <td>2</td>\n",
              "      <td>13</td>\n",
              "      <td>116</td>\n",
              "      <td>48</td>\n",
              "      <td>0</td>\n",
              "    </tr>\n",
              "    <tr>\n",
              "      <th>2</th>\n",
              "      <td>6</td>\n",
              "      <td>9</td>\n",
              "      <td>635</td>\n",
              "      <td>205</td>\n",
              "      <td>0</td>\n",
              "    </tr>\n",
              "    <tr>\n",
              "      <th>3</th>\n",
              "      <td>7</td>\n",
              "      <td>13</td>\n",
              "      <td>644</td>\n",
              "      <td>1050</td>\n",
              "      <td>0</td>\n",
              "    </tr>\n",
              "    <tr>\n",
              "      <th>4</th>\n",
              "      <td>9</td>\n",
              "      <td>8</td>\n",
              "      <td>1017</td>\n",
              "      <td>1489</td>\n",
              "      <td>0</td>\n",
              "    </tr>\n",
              "  </tbody>\n",
              "</table>\n",
              "</div>"
            ],
            "text/plain": [
              "   id  campaign_id  coupon_id  customer_id  redemption_status\n",
              "0   1           13         27         1053                  0\n",
              "1   2           13        116           48                  0\n",
              "2   6            9        635          205                  0\n",
              "3   7           13        644         1050                  0\n",
              "4   9            8       1017         1489                  0"
            ]
          },
          "metadata": {
            "tags": []
          },
          "execution_count": 5
        }
      ]
    },
    {
      "cell_type": "code",
      "metadata": {
        "id": "Ua9sCkevG1hL",
        "colab_type": "code",
        "colab": {}
      },
      "source": [
        "raw_campaign = raw.merge(campaign_data, how='left').drop(['campaign_id'],axis=1)\n",
        "coup_item_data = coup_item_map.merge(item_data, how='left').drop(['item_id'], axis=1).drop_duplicates()\n",
        "raw_campaign_coupItem = raw_campaign.merge(coup_item_data, how=\"left\")\n",
        "raw_campaign_coupItem_cust = raw_campaign_coupItem.merge(cust_demographics, how=\"left\")\n",
        "raw_campaign_coupItem_cust.fillna(-1,inplace=True,downcast='infer')\n",
        "\n",
        "test_campaign = test.merge(campaign_data, how='left').drop(['campaign_id'],axis=1)\n",
        "test_campaign_coupItem = test_campaign.merge(coup_item_data, how=\"left\")\n",
        "test_campaign_coupItem_cust = test_campaign_coupItem.merge(cust_demographics, how=\"left\")\n",
        "test_campaign_coupItem_cust.fillna(-1,inplace=True,downcast='infer')"
      ],
      "execution_count": 0,
      "outputs": []
    },
    {
      "cell_type": "code",
      "metadata": {
        "id": "uVtLHw1OHJFW",
        "colab_type": "code",
        "colab": {
          "base_uri": "https://localhost:8080/",
          "height": 34
        },
        "outputId": "51d35814-2243-4f2b-f059-4735d501a171"
      },
      "source": [
        "raw_campaign_coupItem_cust = shuffle(raw_campaign_coupItem_cust)\n",
        "\n",
        "X_train = raw_campaign_coupItem_cust.drop(['id','coupon_id','customer_id','campaign_type','start_date','end_date'\n",
        "                                           ,'redemption_status'], axis=1)\n",
        "X_test = test_campaign_coupItem_cust.drop(['id','coupon_id','customer_id','campaign_type','start_date','end_date'], axis=1)\n",
        "y_train = np.array(raw_campaign_coupItem_cust.redemption_status)\n",
        "\n",
        "print(\"Shape = \", X_train.shape)\n",
        "#X.head()"
      ],
      "execution_count": 14,
      "outputs": [
        {
          "output_type": "stream",
          "text": [
            "Shape =  (580471, 48)\n"
          ],
          "name": "stdout"
        }
      ]
    },
    {
      "cell_type": "code",
      "metadata": {
        "id": "MYL6Sa5dHaNZ",
        "colab_type": "code",
        "colab": {}
      },
      "source": [
        "def create_baseline():\n",
        "  model = Sequential()\n",
        "  model.add(Dense(units=60, input_dim=48, kernel_regularizer=regularizers.l2(0.01)))\n",
        "  Dropout(0.2)\n",
        "  model.add(BatchNormalization())\n",
        "  Activation('relu')\n",
        "  model.add(Dense(units=50))\n",
        "  Dropout(0.2)\n",
        "  model.add(BatchNormalization())\n",
        "  Activation('softmax')\n",
        "  model.add(Dense(units=25))\n",
        "  Dropout(0.2)\n",
        "  model.add(BatchNormalization())\n",
        "  Activation('relu')\n",
        "  model.add(Dense(units=1))\n",
        "  Dropout(0.2)\n",
        "  model.add(BatchNormalization())\n",
        "  Activation('softmax')\n",
        "  model.add(Dense(units=1))\n",
        "  Dropout(0.2)\n",
        "  model.add(BatchNormalization())\n",
        "  Activation('relu')\n",
        "  model.compile(optimizer='adam', loss='binary_crossentropy',  metrics=[roc_auc, \"accuracy\"])\n",
        "  \n",
        "  return model"
      ],
      "execution_count": 0,
      "outputs": []
    },
    {
      "cell_type": "code",
      "metadata": {
        "id": "sd0fuGeNKdlj",
        "colab_type": "code",
        "colab": {}
      },
      "source": [
        "def roc_auc(y_true, y_pred):\n",
        "  return tf.py_func(roc_auc_score, (y_true, y_pred), tf.double)"
      ],
      "execution_count": 0,
      "outputs": []
    },
    {
      "cell_type": "code",
      "metadata": {
        "id": "pldAVuFYJGif",
        "colab_type": "code",
        "colab": {
          "base_uri": "https://localhost:8080/",
          "height": 1000
        },
        "outputId": "649afed7-a3e8-4c15-fc8a-59523e913d2a"
      },
      "source": [
        "estimator = KerasClassifier(build_fn=create_baseline, epochs=20, batch_size=500, verbose=1)\n",
        "estimator.fit(X_train, y_train)"
      ],
      "execution_count": 11,
      "outputs": [
        {
          "output_type": "stream",
          "text": [
            "WARNING:tensorflow:From /usr/local/lib/python3.6/dist-packages/keras/backend/tensorflow_backend.py:66: The name tf.get_default_graph is deprecated. Please use tf.compat.v1.get_default_graph instead.\n",
            "\n",
            "WARNING:tensorflow:From /usr/local/lib/python3.6/dist-packages/keras/backend/tensorflow_backend.py:541: The name tf.placeholder is deprecated. Please use tf.compat.v1.placeholder instead.\n",
            "\n",
            "WARNING:tensorflow:From /usr/local/lib/python3.6/dist-packages/keras/backend/tensorflow_backend.py:4432: The name tf.random_uniform is deprecated. Please use tf.random.uniform instead.\n",
            "\n",
            "WARNING:tensorflow:From /usr/local/lib/python3.6/dist-packages/keras/backend/tensorflow_backend.py:148: The name tf.placeholder_with_default is deprecated. Please use tf.compat.v1.placeholder_with_default instead.\n",
            "\n",
            "WARNING:tensorflow:From /usr/local/lib/python3.6/dist-packages/keras/optimizers.py:793: The name tf.train.Optimizer is deprecated. Please use tf.compat.v1.train.Optimizer instead.\n",
            "\n",
            "WARNING:tensorflow:From /usr/local/lib/python3.6/dist-packages/keras/backend/tensorflow_backend.py:3657: The name tf.log is deprecated. Please use tf.math.log instead.\n",
            "\n",
            "WARNING:tensorflow:From /usr/local/lib/python3.6/dist-packages/tensorflow/python/ops/nn_impl.py:180: add_dispatch_support.<locals>.wrapper (from tensorflow.python.ops.array_ops) is deprecated and will be removed in a future version.\n",
            "Instructions for updating:\n",
            "Use tf.where in 2.0, which has the same broadcast rule as np.where\n",
            "WARNING:tensorflow:From <ipython-input-10-f86f91aaf2c8>:2: py_func (from tensorflow.python.ops.script_ops) is deprecated and will be removed in a future version.\n",
            "Instructions for updating:\n",
            "tf.py_func is deprecated in TF V2. Instead, there are two\n",
            "    options available in V2.\n",
            "    - tf.py_function takes a python function which manipulates tf eager\n",
            "    tensors instead of numpy arrays. It's easy to convert a tf eager tensor to\n",
            "    an ndarray (just call tensor.numpy()) but having access to eager tensors\n",
            "    means `tf.py_function`s can use accelerators such as GPUs as well as\n",
            "    being differentiable using a gradient tape.\n",
            "    - tf.numpy_function maintains the semantics of the deprecated tf.py_func\n",
            "    (it is not differentiable, and manipulates numpy arrays). It drops the\n",
            "    stateful argument making all functions stateful.\n",
            "    \n",
            "Epoch 1/20\n",
            "580471/580471 [==============================] - 9s 15us/step - loss: 0.9526 - roc_auc: 0.5263 - acc: 0.8004\n",
            "Epoch 2/20\n",
            "580471/580471 [==============================] - 7s 12us/step - loss: 0.2208 - roc_auc: 0.6389 - acc: 0.9527\n",
            "Epoch 3/20\n",
            "580471/580471 [==============================] - 7s 12us/step - loss: 0.2108 - roc_auc: 0.5541 - acc: 0.9526\n",
            "Epoch 4/20\n",
            "580471/580471 [==============================] - 7s 13us/step - loss: 0.1998 - roc_auc: 0.6052 - acc: 0.9528\n",
            "Epoch 5/20\n",
            "580471/580471 [==============================] - 7s 12us/step - loss: 0.1877 - roc_auc: 0.6478 - acc: 0.9528\n",
            "Epoch 6/20\n",
            "580471/580471 [==============================] - 7s 12us/step - loss: 0.1832 - roc_auc: 0.7138 - acc: 0.9528\n",
            "Epoch 7/20\n",
            "580471/580471 [==============================] - 7s 12us/step - loss: 0.1853 - roc_auc: 0.6876 - acc: 0.9528\n",
            "Epoch 8/20\n",
            "580471/580471 [==============================] - 7s 12us/step - loss: 0.1882 - roc_auc: 0.6150 - acc: 0.9528\n",
            "Epoch 9/20\n",
            "580471/580471 [==============================] - 7s 12us/step - loss: 0.1856 - roc_auc: 0.6908 - acc: 0.9528\n",
            "Epoch 10/20\n",
            "580471/580471 [==============================] - 7s 12us/step - loss: 0.1873 - roc_auc: 0.6107 - acc: 0.9528\n",
            "Epoch 11/20\n",
            "580471/580471 [==============================] - 7s 12us/step - loss: 0.1834 - roc_auc: 0.7022 - acc: 0.9528\n",
            "Epoch 12/20\n",
            "580471/580471 [==============================] - 7s 12us/step - loss: 0.1854 - roc_auc: 0.6740 - acc: 0.9528\n",
            "Epoch 13/20\n",
            "580471/580471 [==============================] - 7s 12us/step - loss: 0.1869 - roc_auc: 0.6348 - acc: 0.9528\n",
            "Epoch 14/20\n",
            "580471/580471 [==============================] - 7s 12us/step - loss: 0.1840 - roc_auc: 0.6804 - acc: 0.9528\n",
            "Epoch 15/20\n",
            "580471/580471 [==============================] - 7s 12us/step - loss: 0.1890 - roc_auc: 0.6426 - acc: 0.9528\n",
            "Epoch 16/20\n",
            "580471/580471 [==============================] - 7s 12us/step - loss: 0.1901 - roc_auc: 0.6781 - acc: 0.9528\n",
            "Epoch 17/20\n",
            "580471/580471 [==============================] - 7s 12us/step - loss: 0.1820 - roc_auc: 0.7076 - acc: 0.9528\n",
            "Epoch 18/20\n",
            "580471/580471 [==============================] - 7s 12us/step - loss: 0.1909 - roc_auc: 0.6955 - acc: 0.9528\n",
            "Epoch 19/20\n",
            "580471/580471 [==============================] - 7s 12us/step - loss: 0.1866 - roc_auc: 0.6897 - acc: 0.9528\n",
            "Epoch 20/20\n",
            "580471/580471 [==============================] - 7s 12us/step - loss: 0.1834 - roc_auc: 0.6977 - acc: 0.9528\n"
          ],
          "name": "stdout"
        },
        {
          "output_type": "execute_result",
          "data": {
            "text/plain": [
              "<keras.callbacks.History at 0x7fb67509cf28>"
            ]
          },
          "metadata": {
            "tags": []
          },
          "execution_count": 11
        }
      ]
    },
    {
      "cell_type": "code",
      "metadata": {
        "id": "HT7ji2RUM_uf",
        "colab_type": "code",
        "colab": {
          "base_uri": "https://localhost:8080/",
          "height": 51
        },
        "outputId": "4437d008-932e-4484-8d3a-8e453f6d6f8b"
      },
      "source": [
        "pred_nn = estimator.predict(X_test)\n",
        "pred_train_nn = estimator.predict(X_train)\n",
        "#pred_nn = pd.DataFrame(pred_nn, columns=['redemption_status'])\n",
        "idx = pd.DataFrame(test_campaign_coupItem.id)"
      ],
      "execution_count": 24,
      "outputs": [
        {
          "output_type": "stream",
          "text": [
            "401012/401012 [==============================] - 2s 4us/step\n",
            "580471/580471 [==============================] - 2s 4us/step\n"
          ],
          "name": "stdout"
        }
      ]
    },
    {
      "cell_type": "code",
      "metadata": {
        "id": "8Rw3BlejuBhe",
        "colab_type": "code",
        "colab": {}
      },
      "source": [
        "model = RandomForestClassifier(random_state=10, max_depth=25, n_estimators=20, min_samples_split=20)\n",
        "model.fit(X_train, y_train)\n",
        "pred_rfc = model.predict(X_test)\n",
        "pred_rfc_train = model.predict(X_train)"
      ],
      "execution_count": 0,
      "outputs": []
    },
    {
      "cell_type": "code",
      "metadata": {
        "id": "iLjm6eCoQROx",
        "colab_type": "code",
        "colab": {}
      },
      "source": [
        "model = XGBClassifier(random_state=10)\n",
        "model.fit(X_train, y_train)\n",
        "pred_xgb = model.predict(X_test)\n",
        "pred_xgb_train = model.predict(X_train)"
      ],
      "execution_count": 0,
      "outputs": []
    },
    {
      "cell_type": "code",
      "metadata": {
        "id": "65eD8EGXSCIP",
        "colab_type": "code",
        "colab": {}
      },
      "source": [
        "pred_nn = pd.DataFrame(pred_nn, columns=['redemption_status'])\n",
        "pred_train_nn = pd.DataFrame(pred_train_nn, columns=['redemption_status'])\n",
        "pred_rfc = pd.DataFrame(pred_rfc, columns=['redemption_status'])\n",
        "pred_rfc_train = pd.DataFrame(pred_rfc_train, columns=['redemption_status'])\n",
        "pred_xgb = pd.DataFrame(pred_xgb, columns=['redemption_status'])\n",
        "pred_xgb_train = pd.DataFrame(pred_xgb_train, columns=['redemption_status'])"
      ],
      "execution_count": 0,
      "outputs": []
    },
    {
      "cell_type": "code",
      "metadata": {
        "id": "vxmEWO7eRA3y",
        "colab_type": "code",
        "colab": {}
      },
      "source": [
        "pred_test = pd.concat([pred_nn,pred_rfc, pred_xgb], axis=1)\n",
        "pred_train = pd.concat([pred_train_nn ,pred_rfc_train , pred_xgb_train], axis=1)"
      ],
      "execution_count": 0,
      "outputs": []
    },
    {
      "cell_type": "code",
      "metadata": {
        "id": "PmDVbrrBQlOw",
        "colab_type": "code",
        "colab": {}
      },
      "source": [
        "def repredict():\n",
        "  model = Sequential()\n",
        "  model.add(Dense(units=40, input_dim=3, kernel_regularizer=regularizers.l2(0.01)))\n",
        "  Dropout(0.5)\n",
        "  model.add(BatchNormalization())\n",
        "  Activation('relu')\n",
        "  model.add(Dense(units=20))\n",
        "  Dropout(0.5)\n",
        "  model.add(BatchNormalization())\n",
        "  Activation('softmax')\n",
        "  model.add(Dense(units=1))\n",
        "  Dropout(0.5)\n",
        "  model.add(BatchNormalization())\n",
        "  Activation('softmax')\n",
        "  model.compile(optimizer='adam', loss='binary_crossentropy',  metrics=[roc_auc, \"accuracy\"])\n",
        "  \n",
        "  return model"
      ],
      "execution_count": 0,
      "outputs": []
    },
    {
      "cell_type": "code",
      "metadata": {
        "id": "9TFEKW54Q3wl",
        "colab_type": "code",
        "colab": {
          "base_uri": "https://localhost:8080/",
          "height": 204
        },
        "outputId": "2fa07a76-2d1d-46ce-de11-ba5384bb40b6"
      },
      "source": [
        "estimator_re = KerasClassifier(build_fn=repredict, epochs=5, batch_size=300, verbose=1)\n",
        "estimator_re.fit(pred_train, y_train)"
      ],
      "execution_count": 56,
      "outputs": [
        {
          "output_type": "stream",
          "text": [
            "Epoch 1/5\n",
            "580471/580471 [==============================] - 9s 16us/step - loss: 0.4639 - roc_auc: 0.7327 - acc: 0.9488\n",
            "Epoch 2/5\n",
            "580471/580471 [==============================] - 7s 12us/step - loss: 0.4499 - roc_auc: 0.7420 - acc: 0.9492\n",
            "Epoch 3/5\n",
            "580471/580471 [==============================] - 7s 12us/step - loss: 0.4512 - roc_auc: 0.7425 - acc: 0.9489\n",
            "Epoch 4/5\n",
            "580471/580471 [==============================] - 7s 12us/step - loss: 0.4439 - roc_auc: 0.7324 - acc: 0.9488\n",
            "Epoch 5/5\n",
            "580471/580471 [==============================] - 7s 12us/step - loss: 0.2466 - roc_auc: 0.6880 - acc: 0.9524\n"
          ],
          "name": "stdout"
        },
        {
          "output_type": "execute_result",
          "data": {
            "text/plain": [
              "<keras.callbacks.History at 0x7fb65c842668>"
            ]
          },
          "metadata": {
            "tags": []
          },
          "execution_count": 56
        }
      ]
    },
    {
      "cell_type": "code",
      "metadata": {
        "id": "Pz0b-AD-TsyM",
        "colab_type": "code",
        "colab": {
          "base_uri": "https://localhost:8080/",
          "height": 34
        },
        "outputId": "ebda4215-9812-4942-85f3-396d16a4cc76"
      },
      "source": [
        "y_pred = estimator_re.predict(pred_test)\n",
        "y_pred = pd.DataFrame(y_pred, columns=['redemption_status'])\n",
        "idx = pd.DataFrame(test_campaign_coupItem.id)\n",
        "\n",
        "y_pred = pd.concat([idx, y_pred], axis=1).drop_duplicates()\n",
        "\n",
        "y_pred.to_csv(\"Submission_NN.csv\", index=False)"
      ],
      "execution_count": 58,
      "outputs": [
        {
          "output_type": "stream",
          "text": [
            "401012/401012 [==============================] - 3s 7us/step\n"
          ],
          "name": "stdout"
        }
      ]
    },
    {
      "cell_type": "code",
      "metadata": {
        "id": "akllP4UvUwhu",
        "colab_type": "code",
        "colab": {}
      },
      "source": [
        ""
      ],
      "execution_count": 0,
      "outputs": []
    }
  ]
}