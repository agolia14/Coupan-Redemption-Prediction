{
  "nbformat": 4,
  "nbformat_minor": 0,
  "metadata": {
    "colab": {
      "name": "Customer Demographics Analysis.ipynb",
      "provenance": [],
      "include_colab_link": true
    },
    "kernelspec": {
      "display_name": "Python 3",
      "language": "python",
      "name": "python3"
    },
    "language_info": {
      "codemirror_mode": {
        "name": "ipython",
        "version": 3
      },
      "file_extension": ".py",
      "mimetype": "text/x-python",
      "name": "python",
      "nbconvert_exporter": "python",
      "pygments_lexer": "ipython3",
      "version": "3.6.2"
    }
  },
  "cells": [
    {
      "cell_type": "markdown",
      "metadata": {
        "id": "view-in-github",
        "colab_type": "text"
      },
      "source": [
        "<a href=\"https://colab.research.google.com/github/agolia14/Coupan-Redemption-Prediction/blob/Data-Exploration/Customer_Demographics_Analysis.ipynb\" target=\"_parent\"><img src=\"https://colab.research.google.com/assets/colab-badge.svg\" alt=\"Open In Colab\"/></a>"
      ]
    },
    {
      "cell_type": "code",
      "metadata": {
        "colab_type": "code",
        "id": "e8mmZimSfmkD",
        "colab": {}
      },
      "source": [
        "import pandas as pd\n",
        "from collections import Counter\n",
        "import pickle\n",
        "\n",
        "from sklearn.preprocessing import LabelEncoder"
      ],
      "execution_count": 0,
      "outputs": []
    },
    {
      "cell_type": "code",
      "metadata": {
        "colab_type": "code",
        "id": "Ww-1UPeKfr-l",
        "outputId": "cd35e7e8-f847-477d-d909-30d01485b458",
        "colab": {
          "base_uri": "https://localhost:8080/",
          "height": 85
        }
      },
      "source": [
        "!git init\n",
        "!git config --global user.email \"agolia14@gmail.com\"\n",
        "!git remote add origin https://AccessToken@github.com/agolia14/Coupan-Redemption-Prediction.git\n",
        "!git fetch\n",
        "!git checkout Data-Exploration"
      ],
      "execution_count": 17,
      "outputs": [
        {
          "output_type": "stream",
          "text": [
            "Reinitialized existing Git repository in /content/.git/\n",
            "fatal: remote origin already exists.\n",
            "Already on 'Data-Exploration'\n",
            "Your branch is up to date with 'origin/Data-Exploration'.\n"
          ],
          "name": "stdout"
        }
      ]
    },
    {
      "cell_type": "code",
      "metadata": {
        "colab_type": "code",
        "id": "-S0IhM26fvdj",
        "outputId": "94cddb69-c04b-486f-a209-59f6e4214aa5",
        "colab": {
          "base_uri": "https://localhost:8080/",
          "height": 204
        }
      },
      "source": [
        "raw = pd.read_csv(\"data/train/customer_demographics.csv\")\n",
        "raw.head()"
      ],
      "execution_count": 18,
      "outputs": [
        {
          "output_type": "execute_result",
          "data": {
            "text/html": [
              "<div>\n",
              "<style scoped>\n",
              "    .dataframe tbody tr th:only-of-type {\n",
              "        vertical-align: middle;\n",
              "    }\n",
              "\n",
              "    .dataframe tbody tr th {\n",
              "        vertical-align: top;\n",
              "    }\n",
              "\n",
              "    .dataframe thead th {\n",
              "        text-align: right;\n",
              "    }\n",
              "</style>\n",
              "<table border=\"1\" class=\"dataframe\">\n",
              "  <thead>\n",
              "    <tr style=\"text-align: right;\">\n",
              "      <th></th>\n",
              "      <th>customer_id</th>\n",
              "      <th>age_range</th>\n",
              "      <th>marital_status</th>\n",
              "      <th>rented</th>\n",
              "      <th>family_size</th>\n",
              "      <th>no_of_children</th>\n",
              "      <th>income_bracket</th>\n",
              "    </tr>\n",
              "  </thead>\n",
              "  <tbody>\n",
              "    <tr>\n",
              "      <th>0</th>\n",
              "      <td>1</td>\n",
              "      <td>70+</td>\n",
              "      <td>Married</td>\n",
              "      <td>0</td>\n",
              "      <td>2</td>\n",
              "      <td>NaN</td>\n",
              "      <td>4</td>\n",
              "    </tr>\n",
              "    <tr>\n",
              "      <th>1</th>\n",
              "      <td>6</td>\n",
              "      <td>46-55</td>\n",
              "      <td>Married</td>\n",
              "      <td>0</td>\n",
              "      <td>2</td>\n",
              "      <td>NaN</td>\n",
              "      <td>5</td>\n",
              "    </tr>\n",
              "    <tr>\n",
              "      <th>2</th>\n",
              "      <td>7</td>\n",
              "      <td>26-35</td>\n",
              "      <td>NaN</td>\n",
              "      <td>0</td>\n",
              "      <td>3</td>\n",
              "      <td>1</td>\n",
              "      <td>3</td>\n",
              "    </tr>\n",
              "    <tr>\n",
              "      <th>3</th>\n",
              "      <td>8</td>\n",
              "      <td>26-35</td>\n",
              "      <td>NaN</td>\n",
              "      <td>0</td>\n",
              "      <td>4</td>\n",
              "      <td>2</td>\n",
              "      <td>6</td>\n",
              "    </tr>\n",
              "    <tr>\n",
              "      <th>4</th>\n",
              "      <td>10</td>\n",
              "      <td>46-55</td>\n",
              "      <td>Single</td>\n",
              "      <td>0</td>\n",
              "      <td>1</td>\n",
              "      <td>NaN</td>\n",
              "      <td>5</td>\n",
              "    </tr>\n",
              "  </tbody>\n",
              "</table>\n",
              "</div>"
            ],
            "text/plain": [
              "   customer_id age_range  ... no_of_children  income_bracket\n",
              "0            1       70+  ...            NaN               4\n",
              "1            6     46-55  ...            NaN               5\n",
              "2            7     26-35  ...              1               3\n",
              "3            8     26-35  ...              2               6\n",
              "4           10     46-55  ...            NaN               5\n",
              "\n",
              "[5 rows x 7 columns]"
            ]
          },
          "metadata": {
            "tags": []
          },
          "execution_count": 18
        }
      ]
    },
    {
      "cell_type": "code",
      "metadata": {
        "colab_type": "code",
        "id": "kH16z3KzgJ_d",
        "outputId": "97819009-853d-4c64-9202-04cb8874d70f",
        "colab": {
          "base_uri": "https://localhost:8080/",
          "height": 119
        }
      },
      "source": [
        "raw.replace(\"3+\", 3, inplace=True)\n",
        "raw.replace(\"5+\", 5, inplace=True)\n",
        "print(\"age_range = \", Counter(raw.age_range))\n",
        "print(\"marital_status = \", Counter(raw.marital_status))\n",
        "print(\"rented = \", Counter(raw.rented))\n",
        "print(\"family_size = \", Counter(raw.family_size))\n",
        "print(\"no_of_children = \", Counter(raw.no_of_children))\n",
        "print(\"income_bracket = \", Counter(raw.income_bracket))"
      ],
      "execution_count": 19,
      "outputs": [
        {
          "output_type": "stream",
          "text": [
            "age_range =  Counter({'46-55': 271, '36-45': 187, '26-35': 130, '70+': 68, '56-70': 59, '18-25': 45})\n",
            "marital_status =  Counter({nan: 329, 'Married': 317, 'Single': 114})\n",
            "rented =  Counter({0: 719, 1: 41})\n",
            "family_size =  Counter({'2': 303, '1': 248, '3': 104, 5: 57, '4': 48})\n",
            "no_of_children =  Counter({nan: 538, '1': 107, 3: 60, '2': 55})\n",
            "income_bracket =  Counter({5: 187, 4: 165, 6: 88, 3: 70, 2: 68, 1: 59, 8: 37, 7: 32, 9: 29, 12: 10, 10: 10, 11: 5})\n"
          ],
          "name": "stdout"
        }
      ]
    },
    {
      "cell_type": "code",
      "metadata": {
        "colab_type": "code",
        "id": "8viwC1ZMgy97",
        "outputId": "349a0a74-4cc9-4cc5-a2cf-b46852dac4ff",
        "colab": {
          "base_uri": "https://localhost:8080/",
          "height": 51
        }
      },
      "source": [
        "print(Counter(raw.no_of_children[raw.family_size == \"1\"]))\n",
        "print(Counter(raw.marital_status[raw.family_size == \"1\"]))"
      ],
      "execution_count": 20,
      "outputs": [
        {
          "output_type": "stream",
          "text": [
            "Counter({nan: 248})\n",
            "Counter({nan: 183, 'Single': 65})\n"
          ],
          "name": "stdout"
        }
      ]
    },
    {
      "cell_type": "code",
      "metadata": {
        "id": "qKR2oVPypeVb",
        "colab_type": "code",
        "outputId": "8a0730fe-3a16-4ff5-e458-020b610d46f4",
        "colab": {
          "base_uri": "https://localhost:8080/",
          "height": 102
        }
      },
      "source": [
        "print(Counter(raw.no_of_children[raw.family_size == \"2\"]))\n",
        "print(Counter(raw.marital_status[raw.family_size == \"2\"]))\n",
        "print(Counter(raw.age_range[(raw.family_size == \"2\") & (raw.marital_status == 'Single')]))\n",
        "print(Counter(raw.age_range[(raw.family_size == \"2\") & (raw.marital_status == 'Married')]))\n",
        "print(Counter(raw.age_range[(raw.marital_status.isna())]))"
      ],
      "execution_count": 21,
      "outputs": [
        {
          "output_type": "stream",
          "text": [
            "Counter({nan: 290, '1': 13})\n",
            "Counter({'Married': 175, nan: 97, 'Single': 31})\n",
            "Counter({'46-55': 9, '36-45': 7, '26-35': 5, '70+': 4, '18-25': 4, '56-70': 2})\n",
            "Counter({'46-55': 61, '36-45': 36, '70+': 30, '56-70': 29, '26-35': 15, '18-25': 4})\n",
            "Counter({'46-55': 143, '36-45': 64, '26-35': 59, '18-25': 26, '70+': 22, '56-70': 15})\n"
          ],
          "name": "stdout"
        }
      ]
    },
    {
      "cell_type": "code",
      "metadata": {
        "id": "zS8aSPwlpeVd",
        "colab_type": "code",
        "outputId": "0ecbc214-884b-4e0b-8a14-79519bd939ba",
        "colab": {
          "base_uri": "https://localhost:8080/",
          "height": 85
        }
      },
      "source": [
        "print(Counter(raw.no_of_children[raw.family_size == \"3\"]))\n",
        "print(Counter(raw.marital_status[raw.family_size == \"3\"]))\n",
        "print(Counter(raw.no_of_children[(raw.family_size == \"3\") & (raw.marital_status == 'Single')]))\n",
        "print(Counter(raw.no_of_children[(raw.family_size == \"3\") & (raw.marital_status == 'Married')]))"
      ],
      "execution_count": 22,
      "outputs": [
        {
          "output_type": "stream",
          "text": [
            "Counter({'1': 94, '2': 10})\n",
            "Counter({'Married': 63, nan: 30, 'Single': 11})\n",
            "Counter({'2': 6, '1': 5})\n",
            "Counter({'1': 63})\n"
          ],
          "name": "stdout"
        }
      ]
    },
    {
      "cell_type": "code",
      "metadata": {
        "id": "xCrzWEuspeVg",
        "colab_type": "code",
        "outputId": "3e53ab78-4ffa-4418-ca7a-ac925f49ec24",
        "colab": {
          "base_uri": "https://localhost:8080/",
          "height": 85
        }
      },
      "source": [
        "print(Counter(raw.no_of_children[raw.family_size == \"4\"]))\n",
        "print(Counter(raw.marital_status[raw.family_size == \"4\"]))\n",
        "print(Counter(raw.no_of_children[(raw.family_size == \"4\") & (raw.marital_status == 'Married')]))\n",
        "print(Counter(raw.no_of_children[(raw.family_size == \"4\") & (raw.marital_status == 'Single')]))"
      ],
      "execution_count": 23,
      "outputs": [
        {
          "output_type": "stream",
          "text": [
            "Counter({'2': 45, 3: 3})\n",
            "Counter({'Married': 31, nan: 13, 'Single': 4})\n",
            "Counter({'2': 31})\n",
            "Counter({'2': 2, 3: 2})\n"
          ],
          "name": "stdout"
        }
      ]
    },
    {
      "cell_type": "code",
      "metadata": {
        "id": "YbKlrPsQpeVi",
        "colab_type": "code",
        "outputId": "bce5ffc7-3115-42e3-93e7-25a8c603aa47",
        "colab": {
          "base_uri": "https://localhost:8080/",
          "height": 51
        }
      },
      "source": [
        "print(Counter(raw.no_of_children[raw.family_size == 5]))\n",
        "print(Counter(raw.marital_status[raw.family_size == 5]))"
      ],
      "execution_count": 24,
      "outputs": [
        {
          "output_type": "stream",
          "text": [
            "Counter({3: 57})\n",
            "Counter({'Married': 48, nan: 6, 'Single': 3})\n"
          ],
          "name": "stdout"
        }
      ]
    },
    {
      "cell_type": "code",
      "metadata": {
        "scrolled": true,
        "id": "NWeAGBOmpeVl",
        "colab_type": "code",
        "outputId": "0bff1408-4687-4c71-d3ab-7b84517a8287",
        "colab": {
          "base_uri": "https://localhost:8080/",
          "height": 1000
        }
      },
      "source": [
        "raw.no_of_children[(raw.family_size == \"1\") & (raw.no_of_children.isna())] = '0'\n",
        "raw.marital_status[(raw.family_size == \"1\") & (raw.marital_status.isna())] = 'Single'\n",
        "\n",
        "raw.no_of_children[(raw.marital_status == 'Married') & (raw.family_size == \"2\") & (raw.no_of_children.isna())] = '0'\n",
        "raw.no_of_children[(raw.family_size == \"2\") & (raw.marital_status == 'Single') & (raw.no_of_children.isna())] = '1'\n",
        "raw.marital_status[(raw.family_size == \"2\") & (raw.no_of_children == '1') & (raw.marital_status.isna())] = 'Single'\n",
        "\n",
        "raw.marital_status[(raw.family_size == \"3\") & (raw.no_of_children == '2') & (raw.marital_status.isna())] = 'Single'\n",
        "raw.marital_status[(raw.family_size == \"3\") & (raw.no_of_children == '1') & (raw.marital_status.isna())] = 'Married'\n",
        "\n",
        "raw.marital_status[(raw.family_size == \"4\") & (raw.no_of_children == '2') & (raw.marital_status.isna())] = 'Married'\n",
        "raw.marital_status[(raw.family_size == \"4\") & (raw.no_of_children == 3) & (raw.marital_status.isna())] = 'Single'\n",
        "\n",
        "raw.marital_status[(raw.family_size == 5) & (raw.marital_status.isna())] = 'Married'\n",
        "\n",
        "raw.no_of_children[raw.no_of_children.isna()] = '-1'\n",
        "raw.marital_status[raw.marital_status.isna()] = \"Unknown\"\n",
        "\n",
        "raw.no_of_children = pd.to_numeric(raw.no_of_children)\n",
        "raw.family_size = pd.to_numeric(raw.family_size)\n",
        "\n",
        "data = raw.copy()"
      ],
      "execution_count": 25,
      "outputs": [
        {
          "output_type": "stream",
          "text": [
            "/usr/local/lib/python3.6/dist-packages/ipykernel_launcher.py:1: SettingWithCopyWarning: \n",
            "A value is trying to be set on a copy of a slice from a DataFrame\n",
            "\n",
            "See the caveats in the documentation: http://pandas.pydata.org/pandas-docs/stable/indexing.html#indexing-view-versus-copy\n",
            "  \"\"\"Entry point for launching an IPython kernel.\n",
            "/usr/local/lib/python3.6/dist-packages/ipykernel_launcher.py:2: SettingWithCopyWarning: \n",
            "A value is trying to be set on a copy of a slice from a DataFrame\n",
            "\n",
            "See the caveats in the documentation: http://pandas.pydata.org/pandas-docs/stable/indexing.html#indexing-view-versus-copy\n",
            "  \n",
            "/usr/local/lib/python3.6/dist-packages/ipykernel_launcher.py:4: SettingWithCopyWarning: \n",
            "A value is trying to be set on a copy of a slice from a DataFrame\n",
            "\n",
            "See the caveats in the documentation: http://pandas.pydata.org/pandas-docs/stable/indexing.html#indexing-view-versus-copy\n",
            "  after removing the cwd from sys.path.\n",
            "/usr/local/lib/python3.6/dist-packages/ipykernel_launcher.py:5: SettingWithCopyWarning: \n",
            "A value is trying to be set on a copy of a slice from a DataFrame\n",
            "\n",
            "See the caveats in the documentation: http://pandas.pydata.org/pandas-docs/stable/indexing.html#indexing-view-versus-copy\n",
            "  \"\"\"\n",
            "/usr/local/lib/python3.6/dist-packages/ipykernel_launcher.py:6: SettingWithCopyWarning: \n",
            "A value is trying to be set on a copy of a slice from a DataFrame\n",
            "\n",
            "See the caveats in the documentation: http://pandas.pydata.org/pandas-docs/stable/indexing.html#indexing-view-versus-copy\n",
            "  \n",
            "/usr/local/lib/python3.6/dist-packages/ipykernel_launcher.py:8: SettingWithCopyWarning: \n",
            "A value is trying to be set on a copy of a slice from a DataFrame\n",
            "\n",
            "See the caveats in the documentation: http://pandas.pydata.org/pandas-docs/stable/indexing.html#indexing-view-versus-copy\n",
            "  \n",
            "/usr/local/lib/python3.6/dist-packages/ipykernel_launcher.py:9: SettingWithCopyWarning: \n",
            "A value is trying to be set on a copy of a slice from a DataFrame\n",
            "\n",
            "See the caveats in the documentation: http://pandas.pydata.org/pandas-docs/stable/indexing.html#indexing-view-versus-copy\n",
            "  if __name__ == '__main__':\n",
            "/usr/local/lib/python3.6/dist-packages/ipykernel_launcher.py:11: SettingWithCopyWarning: \n",
            "A value is trying to be set on a copy of a slice from a DataFrame\n",
            "\n",
            "See the caveats in the documentation: http://pandas.pydata.org/pandas-docs/stable/indexing.html#indexing-view-versus-copy\n",
            "  # This is added back by InteractiveShellApp.init_path()\n",
            "/usr/local/lib/python3.6/dist-packages/ipykernel_launcher.py:12: SettingWithCopyWarning: \n",
            "A value is trying to be set on a copy of a slice from a DataFrame\n",
            "\n",
            "See the caveats in the documentation: http://pandas.pydata.org/pandas-docs/stable/indexing.html#indexing-view-versus-copy\n",
            "  if sys.path[0] == '':\n",
            "/usr/local/lib/python3.6/dist-packages/ipykernel_launcher.py:14: SettingWithCopyWarning: \n",
            "A value is trying to be set on a copy of a slice from a DataFrame\n",
            "\n",
            "See the caveats in the documentation: http://pandas.pydata.org/pandas-docs/stable/indexing.html#indexing-view-versus-copy\n",
            "  \n",
            "/usr/local/lib/python3.6/dist-packages/ipykernel_launcher.py:16: SettingWithCopyWarning: \n",
            "A value is trying to be set on a copy of a slice from a DataFrame\n",
            "\n",
            "See the caveats in the documentation: http://pandas.pydata.org/pandas-docs/stable/indexing.html#indexing-view-versus-copy\n",
            "  app.launch_new_instance()\n",
            "/usr/local/lib/python3.6/dist-packages/ipykernel_launcher.py:17: SettingWithCopyWarning: \n",
            "A value is trying to be set on a copy of a slice from a DataFrame\n",
            "\n",
            "See the caveats in the documentation: http://pandas.pydata.org/pandas-docs/stable/indexing.html#indexing-view-versus-copy\n"
          ],
          "name": "stderr"
        }
      ]
    },
    {
      "cell_type": "code",
      "metadata": {
        "id": "NXT7bPiHpeVn",
        "colab_type": "code",
        "outputId": "06acf938-73ba-4751-b15a-24a2741ccfd8",
        "colab": {
          "base_uri": "https://localhost:8080/",
          "height": 153
        }
      },
      "source": [
        "data.dtypes"
      ],
      "execution_count": 26,
      "outputs": [
        {
          "output_type": "execute_result",
          "data": {
            "text/plain": [
              "customer_id        int64\n",
              "age_range         object\n",
              "marital_status    object\n",
              "rented             int64\n",
              "family_size        int64\n",
              "no_of_children     int64\n",
              "income_bracket     int64\n",
              "dtype: object"
            ]
          },
          "metadata": {
            "tags": []
          },
          "execution_count": 26
        }
      ]
    },
    {
      "cell_type": "code",
      "metadata": {
        "id": "G4fHn-KwpeVq",
        "colab_type": "code",
        "outputId": "4e28eb2f-4229-4cfd-c920-210613f1b36b",
        "colab": {
          "base_uri": "https://localhost:8080/",
          "height": 204
        }
      },
      "source": [
        "le = LabelEncoder()\n",
        "age_range = pd.DataFrame([le.fit_transform(data.age_range)]).transpose()\n",
        "marital_status = pd.DataFrame([le.fit_transform(data.marital_status)]).transpose()\n",
        "age_range.columns = [\"enc_age_range\"]\n",
        "marital_status.columns = [\"enc_marital_status\"]\n",
        "\n",
        "data_enc = pd.concat([data, age_range, marital_status], axis=1)\n",
        "data_enc.head()"
      ],
      "execution_count": 27,
      "outputs": [
        {
          "output_type": "execute_result",
          "data": {
            "text/html": [
              "<div>\n",
              "<style scoped>\n",
              "    .dataframe tbody tr th:only-of-type {\n",
              "        vertical-align: middle;\n",
              "    }\n",
              "\n",
              "    .dataframe tbody tr th {\n",
              "        vertical-align: top;\n",
              "    }\n",
              "\n",
              "    .dataframe thead th {\n",
              "        text-align: right;\n",
              "    }\n",
              "</style>\n",
              "<table border=\"1\" class=\"dataframe\">\n",
              "  <thead>\n",
              "    <tr style=\"text-align: right;\">\n",
              "      <th></th>\n",
              "      <th>customer_id</th>\n",
              "      <th>age_range</th>\n",
              "      <th>marital_status</th>\n",
              "      <th>rented</th>\n",
              "      <th>family_size</th>\n",
              "      <th>no_of_children</th>\n",
              "      <th>income_bracket</th>\n",
              "      <th>enc_age_range</th>\n",
              "      <th>enc_marital_status</th>\n",
              "    </tr>\n",
              "  </thead>\n",
              "  <tbody>\n",
              "    <tr>\n",
              "      <th>0</th>\n",
              "      <td>1</td>\n",
              "      <td>70+</td>\n",
              "      <td>Married</td>\n",
              "      <td>0</td>\n",
              "      <td>2</td>\n",
              "      <td>0</td>\n",
              "      <td>4</td>\n",
              "      <td>5</td>\n",
              "      <td>0</td>\n",
              "    </tr>\n",
              "    <tr>\n",
              "      <th>1</th>\n",
              "      <td>6</td>\n",
              "      <td>46-55</td>\n",
              "      <td>Married</td>\n",
              "      <td>0</td>\n",
              "      <td>2</td>\n",
              "      <td>0</td>\n",
              "      <td>5</td>\n",
              "      <td>3</td>\n",
              "      <td>0</td>\n",
              "    </tr>\n",
              "    <tr>\n",
              "      <th>2</th>\n",
              "      <td>7</td>\n",
              "      <td>26-35</td>\n",
              "      <td>Married</td>\n",
              "      <td>0</td>\n",
              "      <td>3</td>\n",
              "      <td>1</td>\n",
              "      <td>3</td>\n",
              "      <td>1</td>\n",
              "      <td>0</td>\n",
              "    </tr>\n",
              "    <tr>\n",
              "      <th>3</th>\n",
              "      <td>8</td>\n",
              "      <td>26-35</td>\n",
              "      <td>Married</td>\n",
              "      <td>0</td>\n",
              "      <td>4</td>\n",
              "      <td>2</td>\n",
              "      <td>6</td>\n",
              "      <td>1</td>\n",
              "      <td>0</td>\n",
              "    </tr>\n",
              "    <tr>\n",
              "      <th>4</th>\n",
              "      <td>10</td>\n",
              "      <td>46-55</td>\n",
              "      <td>Single</td>\n",
              "      <td>0</td>\n",
              "      <td>1</td>\n",
              "      <td>0</td>\n",
              "      <td>5</td>\n",
              "      <td>3</td>\n",
              "      <td>1</td>\n",
              "    </tr>\n",
              "  </tbody>\n",
              "</table>\n",
              "</div>"
            ],
            "text/plain": [
              "   customer_id age_range  ... enc_age_range  enc_marital_status\n",
              "0            1       70+  ...             5                   0\n",
              "1            6     46-55  ...             3                   0\n",
              "2            7     26-35  ...             1                   0\n",
              "3            8     26-35  ...             1                   0\n",
              "4           10     46-55  ...             3                   1\n",
              "\n",
              "[5 rows x 9 columns]"
            ]
          },
          "metadata": {
            "tags": []
          },
          "execution_count": 27
        }
      ]
    },
    {
      "cell_type": "code",
      "metadata": {
        "id": "L15cNUmGpeVs",
        "colab_type": "code",
        "outputId": "e9c8e8a7-c8a5-4615-b935-d11dc728deb9",
        "colab": {
          "base_uri": "https://localhost:8080/",
          "height": 258
        }
      },
      "source": [
        "data_enc_oneHot = pd.concat([data_enc, \n",
        "                             pd.get_dummies(data_enc.age_range, prefix = \"Age\"),\n",
        "                             pd.get_dummies(data_enc.marital_status)], axis=1)\n",
        "\n",
        "data_enc_oneHot.drop([\"age_range\",\"marital_status\"], axis=1, inplace=True)\n",
        "print(\"Shape = \", data_enc_oneHot.shape)\n",
        "data_enc_oneHot.head()"
      ],
      "execution_count": 28,
      "outputs": [
        {
          "output_type": "stream",
          "text": [
            "Shape =  (760, 16)\n"
          ],
          "name": "stdout"
        },
        {
          "output_type": "execute_result",
          "data": {
            "text/html": [
              "<div>\n",
              "<style scoped>\n",
              "    .dataframe tbody tr th:only-of-type {\n",
              "        vertical-align: middle;\n",
              "    }\n",
              "\n",
              "    .dataframe tbody tr th {\n",
              "        vertical-align: top;\n",
              "    }\n",
              "\n",
              "    .dataframe thead th {\n",
              "        text-align: right;\n",
              "    }\n",
              "</style>\n",
              "<table border=\"1\" class=\"dataframe\">\n",
              "  <thead>\n",
              "    <tr style=\"text-align: right;\">\n",
              "      <th></th>\n",
              "      <th>customer_id</th>\n",
              "      <th>rented</th>\n",
              "      <th>family_size</th>\n",
              "      <th>no_of_children</th>\n",
              "      <th>income_bracket</th>\n",
              "      <th>enc_age_range</th>\n",
              "      <th>enc_marital_status</th>\n",
              "      <th>Age_18-25</th>\n",
              "      <th>Age_26-35</th>\n",
              "      <th>Age_36-45</th>\n",
              "      <th>Age_46-55</th>\n",
              "      <th>Age_56-70</th>\n",
              "      <th>Age_70+</th>\n",
              "      <th>Married</th>\n",
              "      <th>Single</th>\n",
              "      <th>Unknown</th>\n",
              "    </tr>\n",
              "  </thead>\n",
              "  <tbody>\n",
              "    <tr>\n",
              "      <th>0</th>\n",
              "      <td>1</td>\n",
              "      <td>0</td>\n",
              "      <td>2</td>\n",
              "      <td>0</td>\n",
              "      <td>4</td>\n",
              "      <td>5</td>\n",
              "      <td>0</td>\n",
              "      <td>0</td>\n",
              "      <td>0</td>\n",
              "      <td>0</td>\n",
              "      <td>0</td>\n",
              "      <td>0</td>\n",
              "      <td>1</td>\n",
              "      <td>1</td>\n",
              "      <td>0</td>\n",
              "      <td>0</td>\n",
              "    </tr>\n",
              "    <tr>\n",
              "      <th>1</th>\n",
              "      <td>6</td>\n",
              "      <td>0</td>\n",
              "      <td>2</td>\n",
              "      <td>0</td>\n",
              "      <td>5</td>\n",
              "      <td>3</td>\n",
              "      <td>0</td>\n",
              "      <td>0</td>\n",
              "      <td>0</td>\n",
              "      <td>0</td>\n",
              "      <td>1</td>\n",
              "      <td>0</td>\n",
              "      <td>0</td>\n",
              "      <td>1</td>\n",
              "      <td>0</td>\n",
              "      <td>0</td>\n",
              "    </tr>\n",
              "    <tr>\n",
              "      <th>2</th>\n",
              "      <td>7</td>\n",
              "      <td>0</td>\n",
              "      <td>3</td>\n",
              "      <td>1</td>\n",
              "      <td>3</td>\n",
              "      <td>1</td>\n",
              "      <td>0</td>\n",
              "      <td>0</td>\n",
              "      <td>1</td>\n",
              "      <td>0</td>\n",
              "      <td>0</td>\n",
              "      <td>0</td>\n",
              "      <td>0</td>\n",
              "      <td>1</td>\n",
              "      <td>0</td>\n",
              "      <td>0</td>\n",
              "    </tr>\n",
              "    <tr>\n",
              "      <th>3</th>\n",
              "      <td>8</td>\n",
              "      <td>0</td>\n",
              "      <td>4</td>\n",
              "      <td>2</td>\n",
              "      <td>6</td>\n",
              "      <td>1</td>\n",
              "      <td>0</td>\n",
              "      <td>0</td>\n",
              "      <td>1</td>\n",
              "      <td>0</td>\n",
              "      <td>0</td>\n",
              "      <td>0</td>\n",
              "      <td>0</td>\n",
              "      <td>1</td>\n",
              "      <td>0</td>\n",
              "      <td>0</td>\n",
              "    </tr>\n",
              "    <tr>\n",
              "      <th>4</th>\n",
              "      <td>10</td>\n",
              "      <td>0</td>\n",
              "      <td>1</td>\n",
              "      <td>0</td>\n",
              "      <td>5</td>\n",
              "      <td>3</td>\n",
              "      <td>1</td>\n",
              "      <td>0</td>\n",
              "      <td>0</td>\n",
              "      <td>0</td>\n",
              "      <td>1</td>\n",
              "      <td>0</td>\n",
              "      <td>0</td>\n",
              "      <td>0</td>\n",
              "      <td>1</td>\n",
              "      <td>0</td>\n",
              "    </tr>\n",
              "  </tbody>\n",
              "</table>\n",
              "</div>"
            ],
            "text/plain": [
              "   customer_id  rented  family_size  ...  Married  Single  Unknown\n",
              "0            1       0            2  ...        1       0        0\n",
              "1            6       0            2  ...        1       0        0\n",
              "2            7       0            3  ...        1       0        0\n",
              "3            8       0            4  ...        1       0        0\n",
              "4           10       0            1  ...        0       1        0\n",
              "\n",
              "[5 rows x 16 columns]"
            ]
          },
          "metadata": {
            "tags": []
          },
          "execution_count": 28
        }
      ]
    },
    {
      "cell_type": "code",
      "metadata": {
        "id": "gwoQZYo9peVv",
        "colab_type": "code",
        "outputId": "bb6ef1dd-12a6-40b9-a57b-fd139d6b3cd1",
        "colab": {
          "base_uri": "https://localhost:8080/",
          "height": 187
        }
      },
      "source": [
        "npFile = open(\"npy/customer_demographics.npy\",\"wb\")\n",
        "pickle.dump(data_enc_oneHot, npFile)\n",
        "npFile.close()\n",
        "\n",
        "!git add npy/customer_demographics.npy\n",
        "!git commit -m \"Adding Customer Demographics npy\"\n",
        "!git push origin"
      ],
      "execution_count": 29,
      "outputs": [
        {
          "output_type": "stream",
          "text": [
            "[Data-Exploration a39daa0] Adding Customer Demographics npy\n",
            " 1 file changed, 0 insertions(+), 0 deletions(-)\n",
            "Counting objects: 4, done.\n",
            "Delta compression using up to 2 threads.\n",
            "Compressing objects: 100% (4/4), done.\n",
            "Writing objects: 100% (4/4), 1.31 KiB | 1.31 MiB/s, done.\n",
            "Total 4 (delta 2), reused 0 (delta 0)\n",
            "remote: Resolving deltas: 100% (2/2), completed with 2 local objects.\u001b[K\n",
            "To https://github.com/agolia14/Coupan-Redemption-Prediction.git\n",
            "   2385e7e..a39daa0  Data-Exploration -> Data-Exploration\n"
          ],
          "name": "stdout"
        }
      ]
    }
  ]
}
